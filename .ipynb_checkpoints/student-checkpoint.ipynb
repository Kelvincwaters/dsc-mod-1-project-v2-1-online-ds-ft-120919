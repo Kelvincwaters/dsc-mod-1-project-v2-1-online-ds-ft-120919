{
 "cells": [
  {
   "cell_type": "markdown",
   "metadata": {},
   "source": [
    "## Final Project Submission\n",
    "\n",
    "Please fill out:\n",
    "* Student name: \n",
    "* Student pace: self paced / part time / full time\n",
    "* Scheduled project review date/time: \n",
    "* Instructor name: \n",
    "* Blog post URL:\n"
   ]
  },
  {
   "cell_type": "code",
   "execution_count": null,
   "metadata": {},
   "outputs": [],
   "source": [
    "# Kelvin Waters\n",
    "# Online FT 12/09/19 cohort\n",
    "# Once submitted\n",
    "# Rafael Carrasco"
   ]
  },
  {
   "cell_type": "code",
   "execution_count": 1,
   "metadata": {},
   "outputs": [],
   "source": [
    "# import everything being used up top\n",
    "from importlib import reload\n",
    "\n",
    "import sqlite3\n",
    "import pandas as pd\n",
    "import numpy as np\n",
    "import helper_functions as hf\n",
    "\n",
    "\n",
    "import matplotlib.pyplot as plt\n",
    "%matplotlib inline\n",
    "\n",
    "import seaborn as sns"
   ]
  },
  {
   "cell_type": "code",
   "execution_count": 2,
   "metadata": {},
   "outputs": [
    {
     "data": {
      "text/plain": [
       "<module 'helper_functions' from 'C:\\\\Users\\\\kelvi\\\\flatiron\\\\section01\\\\dsc-mod-1-project-v2-1-online-ds-ft-120919\\\\helper_functions.py'>"
      ]
     },
     "execution_count": 2,
     "metadata": {},
     "output_type": "execute_result"
    }
   ],
   "source": [
    "reload(hf)"
   ]
  },
  {
   "cell_type": "code",
   "execution_count": 3,
   "metadata": {},
   "outputs": [],
   "source": [
    "def preview_tables(conn, tables='all'):\n",
    "    all_tables = hf.get_table_list(conn)\n",
    "    if tables=='all':\n",
    "        final_table_names = all_tables\n",
    "        \n",
    "    elif type(tables) == list:\n",
    "        final_table_names = [t for t in all_tables if t in tables]\n",
    "    \n",
    "    for table_name in final_table_names:\n",
    "        print(f\"Showing Table: {table_name}\")\n",
    "        query = f\"select * from {table_name};\"\n",
    "        df = pd.read_sql(query, conn)\n",
    "        display(df.head(2))\n",
    "        print(\"-\"*100)\n",
    "    print(\"finished\")\n",
    "    return None"
   ]
  },
  {
   "cell_type": "code",
   "execution_count": 4,
   "metadata": {},
   "outputs": [],
   "source": [
    "conn = sqlite3.Connection(\"movies_db.sqlite\")\n",
    "c = conn.cursor()"
   ]
  },
  {
   "cell_type": "code",
   "execution_count": 5,
   "metadata": {},
   "outputs": [
    {
     "data": {
      "text/plain": [
       "['bom_movie_gross',\n",
       " 'name_basics',\n",
       " 'title_akas',\n",
       " 'title_basics',\n",
       " 'title_crew',\n",
       " 'title_principals',\n",
       " 'title_ratings',\n",
       " 'tmdb_movies',\n",
       " 'tn_movie_budgets']"
      ]
     },
     "execution_count": 5,
     "metadata": {},
     "output_type": "execute_result"
    }
   ],
   "source": [
    "table_names = hf.get_table_list(conn)\n",
    "table_names"
   ]
  },
  {
   "cell_type": "code",
   "execution_count": 6,
   "metadata": {},
   "outputs": [
    {
     "name": "stdout",
     "output_type": "stream",
     "text": [
      "Showing Table: bom_movie_gross\n"
     ]
    },
    {
     "data": {
      "text/html": [
       "<div>\n",
       "<style scoped>\n",
       "    .dataframe tbody tr th:only-of-type {\n",
       "        vertical-align: middle;\n",
       "    }\n",
       "\n",
       "    .dataframe tbody tr th {\n",
       "        vertical-align: top;\n",
       "    }\n",
       "\n",
       "    .dataframe thead th {\n",
       "        text-align: right;\n",
       "    }\n",
       "</style>\n",
       "<table border=\"1\" class=\"dataframe\">\n",
       "  <thead>\n",
       "    <tr style=\"text-align: right;\">\n",
       "      <th></th>\n",
       "      <th>title</th>\n",
       "      <th>studio</th>\n",
       "      <th>domestic_gross</th>\n",
       "      <th>foreign_gross</th>\n",
       "      <th>year</th>\n",
       "    </tr>\n",
       "  </thead>\n",
       "  <tbody>\n",
       "    <tr>\n",
       "      <th>0</th>\n",
       "      <td>Toy Story 3</td>\n",
       "      <td>BV</td>\n",
       "      <td>415000000.0</td>\n",
       "      <td>652000000</td>\n",
       "      <td>2010</td>\n",
       "    </tr>\n",
       "    <tr>\n",
       "      <th>1</th>\n",
       "      <td>Alice in Wonderland (2010)</td>\n",
       "      <td>BV</td>\n",
       "      <td>334200000.0</td>\n",
       "      <td>691300000</td>\n",
       "      <td>2010</td>\n",
       "    </tr>\n",
       "  </tbody>\n",
       "</table>\n",
       "</div>"
      ],
      "text/plain": [
       "                        title studio  domestic_gross foreign_gross  year\n",
       "0                 Toy Story 3     BV     415000000.0     652000000  2010\n",
       "1  Alice in Wonderland (2010)     BV     334200000.0     691300000  2010"
      ]
     },
     "metadata": {},
     "output_type": "display_data"
    },
    {
     "name": "stdout",
     "output_type": "stream",
     "text": [
      "----------------------------------------------------------------------------------------------------\n",
      "Showing Table: name_basics\n"
     ]
    },
    {
     "data": {
      "text/html": [
       "<div>\n",
       "<style scoped>\n",
       "    .dataframe tbody tr th:only-of-type {\n",
       "        vertical-align: middle;\n",
       "    }\n",
       "\n",
       "    .dataframe tbody tr th {\n",
       "        vertical-align: top;\n",
       "    }\n",
       "\n",
       "    .dataframe thead th {\n",
       "        text-align: right;\n",
       "    }\n",
       "</style>\n",
       "<table border=\"1\" class=\"dataframe\">\n",
       "  <thead>\n",
       "    <tr style=\"text-align: right;\">\n",
       "      <th></th>\n",
       "      <th>nconst</th>\n",
       "      <th>primary_name</th>\n",
       "      <th>birth_year</th>\n",
       "      <th>death_year</th>\n",
       "      <th>primary_profession</th>\n",
       "      <th>known_for_titles</th>\n",
       "    </tr>\n",
       "  </thead>\n",
       "  <tbody>\n",
       "    <tr>\n",
       "      <th>0</th>\n",
       "      <td>nm0061671</td>\n",
       "      <td>Mary Ellen Bauder</td>\n",
       "      <td>NaN</td>\n",
       "      <td>NaN</td>\n",
       "      <td>miscellaneous,production_manager,producer</td>\n",
       "      <td>tt0837562,tt2398241,tt0844471,tt0118553</td>\n",
       "    </tr>\n",
       "    <tr>\n",
       "      <th>1</th>\n",
       "      <td>nm0061865</td>\n",
       "      <td>Joseph Bauer</td>\n",
       "      <td>NaN</td>\n",
       "      <td>NaN</td>\n",
       "      <td>composer,music_department,sound_department</td>\n",
       "      <td>tt0896534,tt6791238,tt0287072,tt1682940</td>\n",
       "    </tr>\n",
       "  </tbody>\n",
       "</table>\n",
       "</div>"
      ],
      "text/plain": [
       "      nconst       primary_name  birth_year  death_year  \\\n",
       "0  nm0061671  Mary Ellen Bauder         NaN         NaN   \n",
       "1  nm0061865       Joseph Bauer         NaN         NaN   \n",
       "\n",
       "                           primary_profession  \\\n",
       "0   miscellaneous,production_manager,producer   \n",
       "1  composer,music_department,sound_department   \n",
       "\n",
       "                          known_for_titles  \n",
       "0  tt0837562,tt2398241,tt0844471,tt0118553  \n",
       "1  tt0896534,tt6791238,tt0287072,tt1682940  "
      ]
     },
     "metadata": {},
     "output_type": "display_data"
    },
    {
     "name": "stdout",
     "output_type": "stream",
     "text": [
      "----------------------------------------------------------------------------------------------------\n",
      "Showing Table: title_akas\n"
     ]
    },
    {
     "data": {
      "text/html": [
       "<div>\n",
       "<style scoped>\n",
       "    .dataframe tbody tr th:only-of-type {\n",
       "        vertical-align: middle;\n",
       "    }\n",
       "\n",
       "    .dataframe tbody tr th {\n",
       "        vertical-align: top;\n",
       "    }\n",
       "\n",
       "    .dataframe thead th {\n",
       "        text-align: right;\n",
       "    }\n",
       "</style>\n",
       "<table border=\"1\" class=\"dataframe\">\n",
       "  <thead>\n",
       "    <tr style=\"text-align: right;\">\n",
       "      <th></th>\n",
       "      <th>title_id</th>\n",
       "      <th>ordering</th>\n",
       "      <th>title</th>\n",
       "      <th>region</th>\n",
       "      <th>language</th>\n",
       "      <th>types</th>\n",
       "      <th>attributes</th>\n",
       "      <th>is_original_title</th>\n",
       "    </tr>\n",
       "  </thead>\n",
       "  <tbody>\n",
       "    <tr>\n",
       "      <th>0</th>\n",
       "      <td>tt0369610</td>\n",
       "      <td>10</td>\n",
       "      <td>Джурасик свят</td>\n",
       "      <td>BG</td>\n",
       "      <td>bg</td>\n",
       "      <td>None</td>\n",
       "      <td>None</td>\n",
       "      <td>0.0</td>\n",
       "    </tr>\n",
       "    <tr>\n",
       "      <th>1</th>\n",
       "      <td>tt0369610</td>\n",
       "      <td>11</td>\n",
       "      <td>Jurashikku warudo</td>\n",
       "      <td>JP</td>\n",
       "      <td>None</td>\n",
       "      <td>imdbDisplay</td>\n",
       "      <td>None</td>\n",
       "      <td>0.0</td>\n",
       "    </tr>\n",
       "  </tbody>\n",
       "</table>\n",
       "</div>"
      ],
      "text/plain": [
       "    title_id  ordering              title region language        types  \\\n",
       "0  tt0369610        10      Джурасик свят     BG       bg         None   \n",
       "1  tt0369610        11  Jurashikku warudo     JP     None  imdbDisplay   \n",
       "\n",
       "  attributes  is_original_title  \n",
       "0       None                0.0  \n",
       "1       None                0.0  "
      ]
     },
     "metadata": {},
     "output_type": "display_data"
    },
    {
     "name": "stdout",
     "output_type": "stream",
     "text": [
      "----------------------------------------------------------------------------------------------------\n",
      "Showing Table: title_basics\n"
     ]
    },
    {
     "data": {
      "text/html": [
       "<div>\n",
       "<style scoped>\n",
       "    .dataframe tbody tr th:only-of-type {\n",
       "        vertical-align: middle;\n",
       "    }\n",
       "\n",
       "    .dataframe tbody tr th {\n",
       "        vertical-align: top;\n",
       "    }\n",
       "\n",
       "    .dataframe thead th {\n",
       "        text-align: right;\n",
       "    }\n",
       "</style>\n",
       "<table border=\"1\" class=\"dataframe\">\n",
       "  <thead>\n",
       "    <tr style=\"text-align: right;\">\n",
       "      <th></th>\n",
       "      <th>tconst</th>\n",
       "      <th>primary_title</th>\n",
       "      <th>original_title</th>\n",
       "      <th>start_year</th>\n",
       "      <th>runtime_minutes</th>\n",
       "      <th>genres</th>\n",
       "    </tr>\n",
       "  </thead>\n",
       "  <tbody>\n",
       "    <tr>\n",
       "      <th>0</th>\n",
       "      <td>tt0063540</td>\n",
       "      <td>Sunghursh</td>\n",
       "      <td>Sunghursh</td>\n",
       "      <td>2013</td>\n",
       "      <td>175.0</td>\n",
       "      <td>Action,Crime,Drama</td>\n",
       "    </tr>\n",
       "    <tr>\n",
       "      <th>1</th>\n",
       "      <td>tt0066787</td>\n",
       "      <td>One Day Before the Rainy Season</td>\n",
       "      <td>Ashad Ka Ek Din</td>\n",
       "      <td>2019</td>\n",
       "      <td>114.0</td>\n",
       "      <td>Biography,Drama</td>\n",
       "    </tr>\n",
       "  </tbody>\n",
       "</table>\n",
       "</div>"
      ],
      "text/plain": [
       "      tconst                    primary_title   original_title  start_year  \\\n",
       "0  tt0063540                        Sunghursh        Sunghursh        2013   \n",
       "1  tt0066787  One Day Before the Rainy Season  Ashad Ka Ek Din        2019   \n",
       "\n",
       "   runtime_minutes              genres  \n",
       "0            175.0  Action,Crime,Drama  \n",
       "1            114.0     Biography,Drama  "
      ]
     },
     "metadata": {},
     "output_type": "display_data"
    },
    {
     "name": "stdout",
     "output_type": "stream",
     "text": [
      "----------------------------------------------------------------------------------------------------\n",
      "Showing Table: title_crew\n"
     ]
    },
    {
     "data": {
      "text/html": [
       "<div>\n",
       "<style scoped>\n",
       "    .dataframe tbody tr th:only-of-type {\n",
       "        vertical-align: middle;\n",
       "    }\n",
       "\n",
       "    .dataframe tbody tr th {\n",
       "        vertical-align: top;\n",
       "    }\n",
       "\n",
       "    .dataframe thead th {\n",
       "        text-align: right;\n",
       "    }\n",
       "</style>\n",
       "<table border=\"1\" class=\"dataframe\">\n",
       "  <thead>\n",
       "    <tr style=\"text-align: right;\">\n",
       "      <th></th>\n",
       "      <th>tconst</th>\n",
       "      <th>directors</th>\n",
       "      <th>writers</th>\n",
       "    </tr>\n",
       "  </thead>\n",
       "  <tbody>\n",
       "    <tr>\n",
       "      <th>0</th>\n",
       "      <td>tt0285252</td>\n",
       "      <td>nm0899854</td>\n",
       "      <td>nm0899854</td>\n",
       "    </tr>\n",
       "    <tr>\n",
       "      <th>1</th>\n",
       "      <td>tt0438973</td>\n",
       "      <td>None</td>\n",
       "      <td>nm0175726,nm1802864</td>\n",
       "    </tr>\n",
       "  </tbody>\n",
       "</table>\n",
       "</div>"
      ],
      "text/plain": [
       "      tconst  directors              writers\n",
       "0  tt0285252  nm0899854            nm0899854\n",
       "1  tt0438973       None  nm0175726,nm1802864"
      ]
     },
     "metadata": {},
     "output_type": "display_data"
    },
    {
     "name": "stdout",
     "output_type": "stream",
     "text": [
      "----------------------------------------------------------------------------------------------------\n",
      "Showing Table: title_principals\n"
     ]
    },
    {
     "data": {
      "text/html": [
       "<div>\n",
       "<style scoped>\n",
       "    .dataframe tbody tr th:only-of-type {\n",
       "        vertical-align: middle;\n",
       "    }\n",
       "\n",
       "    .dataframe tbody tr th {\n",
       "        vertical-align: top;\n",
       "    }\n",
       "\n",
       "    .dataframe thead th {\n",
       "        text-align: right;\n",
       "    }\n",
       "</style>\n",
       "<table border=\"1\" class=\"dataframe\">\n",
       "  <thead>\n",
       "    <tr style=\"text-align: right;\">\n",
       "      <th></th>\n",
       "      <th>tconst</th>\n",
       "      <th>ordering</th>\n",
       "      <th>nconst</th>\n",
       "      <th>category</th>\n",
       "      <th>job</th>\n",
       "      <th>characters</th>\n",
       "    </tr>\n",
       "  </thead>\n",
       "  <tbody>\n",
       "    <tr>\n",
       "      <th>0</th>\n",
       "      <td>tt0111414</td>\n",
       "      <td>1</td>\n",
       "      <td>nm0246005</td>\n",
       "      <td>actor</td>\n",
       "      <td>None</td>\n",
       "      <td>[\"The Man\"]</td>\n",
       "    </tr>\n",
       "    <tr>\n",
       "      <th>1</th>\n",
       "      <td>tt0111414</td>\n",
       "      <td>2</td>\n",
       "      <td>nm0398271</td>\n",
       "      <td>director</td>\n",
       "      <td>None</td>\n",
       "      <td>None</td>\n",
       "    </tr>\n",
       "  </tbody>\n",
       "</table>\n",
       "</div>"
      ],
      "text/plain": [
       "      tconst  ordering     nconst  category   job   characters\n",
       "0  tt0111414         1  nm0246005     actor  None  [\"The Man\"]\n",
       "1  tt0111414         2  nm0398271  director  None         None"
      ]
     },
     "metadata": {},
     "output_type": "display_data"
    },
    {
     "name": "stdout",
     "output_type": "stream",
     "text": [
      "----------------------------------------------------------------------------------------------------\n",
      "Showing Table: title_ratings\n"
     ]
    },
    {
     "data": {
      "text/html": [
       "<div>\n",
       "<style scoped>\n",
       "    .dataframe tbody tr th:only-of-type {\n",
       "        vertical-align: middle;\n",
       "    }\n",
       "\n",
       "    .dataframe tbody tr th {\n",
       "        vertical-align: top;\n",
       "    }\n",
       "\n",
       "    .dataframe thead th {\n",
       "        text-align: right;\n",
       "    }\n",
       "</style>\n",
       "<table border=\"1\" class=\"dataframe\">\n",
       "  <thead>\n",
       "    <tr style=\"text-align: right;\">\n",
       "      <th></th>\n",
       "      <th>tconst</th>\n",
       "      <th>averagerating</th>\n",
       "      <th>numvotes</th>\n",
       "    </tr>\n",
       "  </thead>\n",
       "  <tbody>\n",
       "    <tr>\n",
       "      <th>0</th>\n",
       "      <td>tt10356526</td>\n",
       "      <td>8.3</td>\n",
       "      <td>31</td>\n",
       "    </tr>\n",
       "    <tr>\n",
       "      <th>1</th>\n",
       "      <td>tt10384606</td>\n",
       "      <td>8.9</td>\n",
       "      <td>559</td>\n",
       "    </tr>\n",
       "  </tbody>\n",
       "</table>\n",
       "</div>"
      ],
      "text/plain": [
       "       tconst  averagerating  numvotes\n",
       "0  tt10356526            8.3        31\n",
       "1  tt10384606            8.9       559"
      ]
     },
     "metadata": {},
     "output_type": "display_data"
    },
    {
     "name": "stdout",
     "output_type": "stream",
     "text": [
      "----------------------------------------------------------------------------------------------------\n",
      "Showing Table: tmdb_movies\n"
     ]
    },
    {
     "data": {
      "text/html": [
       "<div>\n",
       "<style scoped>\n",
       "    .dataframe tbody tr th:only-of-type {\n",
       "        vertical-align: middle;\n",
       "    }\n",
       "\n",
       "    .dataframe tbody tr th {\n",
       "        vertical-align: top;\n",
       "    }\n",
       "\n",
       "    .dataframe thead th {\n",
       "        text-align: right;\n",
       "    }\n",
       "</style>\n",
       "<table border=\"1\" class=\"dataframe\">\n",
       "  <thead>\n",
       "    <tr style=\"text-align: right;\">\n",
       "      <th></th>\n",
       "      <th>index</th>\n",
       "      <th>genre_ids</th>\n",
       "      <th>id</th>\n",
       "      <th>original_language</th>\n",
       "      <th>original_title</th>\n",
       "      <th>popularity</th>\n",
       "      <th>release_date</th>\n",
       "      <th>title</th>\n",
       "      <th>vote_average</th>\n",
       "      <th>vote_count</th>\n",
       "    </tr>\n",
       "  </thead>\n",
       "  <tbody>\n",
       "    <tr>\n",
       "      <th>0</th>\n",
       "      <td>0</td>\n",
       "      <td>[12, 14, 10751]</td>\n",
       "      <td>12444</td>\n",
       "      <td>en</td>\n",
       "      <td>Harry Potter and the Deathly Hallows: Part 1</td>\n",
       "      <td>33.533</td>\n",
       "      <td>2010-11-19</td>\n",
       "      <td>Harry Potter and the Deathly Hallows: Part 1</td>\n",
       "      <td>7.7</td>\n",
       "      <td>10788</td>\n",
       "    </tr>\n",
       "    <tr>\n",
       "      <th>1</th>\n",
       "      <td>1</td>\n",
       "      <td>[14, 12, 16, 10751]</td>\n",
       "      <td>10191</td>\n",
       "      <td>en</td>\n",
       "      <td>How to Train Your Dragon</td>\n",
       "      <td>28.734</td>\n",
       "      <td>2010-03-26</td>\n",
       "      <td>How to Train Your Dragon</td>\n",
       "      <td>7.7</td>\n",
       "      <td>7610</td>\n",
       "    </tr>\n",
       "  </tbody>\n",
       "</table>\n",
       "</div>"
      ],
      "text/plain": [
       "   index            genre_ids     id original_language  \\\n",
       "0      0      [12, 14, 10751]  12444                en   \n",
       "1      1  [14, 12, 16, 10751]  10191                en   \n",
       "\n",
       "                                 original_title  popularity release_date  \\\n",
       "0  Harry Potter and the Deathly Hallows: Part 1      33.533   2010-11-19   \n",
       "1                      How to Train Your Dragon      28.734   2010-03-26   \n",
       "\n",
       "                                          title  vote_average  vote_count  \n",
       "0  Harry Potter and the Deathly Hallows: Part 1           7.7       10788  \n",
       "1                      How to Train Your Dragon           7.7        7610  "
      ]
     },
     "metadata": {},
     "output_type": "display_data"
    },
    {
     "name": "stdout",
     "output_type": "stream",
     "text": [
      "----------------------------------------------------------------------------------------------------\n",
      "Showing Table: tn_movie_budgets\n"
     ]
    },
    {
     "data": {
      "text/html": [
       "<div>\n",
       "<style scoped>\n",
       "    .dataframe tbody tr th:only-of-type {\n",
       "        vertical-align: middle;\n",
       "    }\n",
       "\n",
       "    .dataframe tbody tr th {\n",
       "        vertical-align: top;\n",
       "    }\n",
       "\n",
       "    .dataframe thead th {\n",
       "        text-align: right;\n",
       "    }\n",
       "</style>\n",
       "<table border=\"1\" class=\"dataframe\">\n",
       "  <thead>\n",
       "    <tr style=\"text-align: right;\">\n",
       "      <th></th>\n",
       "      <th>id</th>\n",
       "      <th>release_date</th>\n",
       "      <th>movie</th>\n",
       "      <th>production_budget</th>\n",
       "      <th>domestic_gross</th>\n",
       "      <th>worldwide_gross</th>\n",
       "    </tr>\n",
       "  </thead>\n",
       "  <tbody>\n",
       "    <tr>\n",
       "      <th>0</th>\n",
       "      <td>1</td>\n",
       "      <td>Dec 18, 2009</td>\n",
       "      <td>Avatar</td>\n",
       "      <td>$425,000,000</td>\n",
       "      <td>$760,507,625</td>\n",
       "      <td>$2,776,345,279</td>\n",
       "    </tr>\n",
       "    <tr>\n",
       "      <th>1</th>\n",
       "      <td>2</td>\n",
       "      <td>May 20, 2011</td>\n",
       "      <td>Pirates of the Caribbean: On Stranger Tides</td>\n",
       "      <td>$410,600,000</td>\n",
       "      <td>$241,063,875</td>\n",
       "      <td>$1,045,663,875</td>\n",
       "    </tr>\n",
       "  </tbody>\n",
       "</table>\n",
       "</div>"
      ],
      "text/plain": [
       "   id  release_date                                        movie  \\\n",
       "0   1  Dec 18, 2009                                       Avatar   \n",
       "1   2  May 20, 2011  Pirates of the Caribbean: On Stranger Tides   \n",
       "\n",
       "  production_budget domestic_gross worldwide_gross  \n",
       "0      $425,000,000   $760,507,625  $2,776,345,279  \n",
       "1      $410,600,000   $241,063,875  $1,045,663,875  "
      ]
     },
     "metadata": {},
     "output_type": "display_data"
    },
    {
     "name": "stdout",
     "output_type": "stream",
     "text": [
      "----------------------------------------------------------------------------------------------------\n",
      "finished\n"
     ]
    }
   ],
   "source": [
    "preview_tables(conn, tables= 'all')"
   ]
  },
  {
   "cell_type": "markdown",
   "metadata": {},
   "source": [
    "# Top 5 domestic profitable studios"
   ]
  },
  {
   "cell_type": "markdown",
   "metadata": {},
   "source": [
    "# bom_movie_gross"
   ]
  },
  {
   "cell_type": "code",
   "execution_count": 7,
   "metadata": {},
   "outputs": [
    {
     "data": {
      "text/html": [
       "<div>\n",
       "<style scoped>\n",
       "    .dataframe tbody tr th:only-of-type {\n",
       "        vertical-align: middle;\n",
       "    }\n",
       "\n",
       "    .dataframe tbody tr th {\n",
       "        vertical-align: top;\n",
       "    }\n",
       "\n",
       "    .dataframe thead th {\n",
       "        text-align: right;\n",
       "    }\n",
       "</style>\n",
       "<table border=\"1\" class=\"dataframe\">\n",
       "  <thead>\n",
       "    <tr style=\"text-align: right;\">\n",
       "      <th></th>\n",
       "      <th>title</th>\n",
       "      <th>studio</th>\n",
       "      <th>domestic_gross</th>\n",
       "      <th>foreign_gross</th>\n",
       "      <th>year</th>\n",
       "    </tr>\n",
       "  </thead>\n",
       "  <tbody>\n",
       "    <tr>\n",
       "      <th>0</th>\n",
       "      <td>Toy Story 3</td>\n",
       "      <td>BV</td>\n",
       "      <td>415000000.0</td>\n",
       "      <td>652000000</td>\n",
       "      <td>2010</td>\n",
       "    </tr>\n",
       "    <tr>\n",
       "      <th>1</th>\n",
       "      <td>Alice in Wonderland (2010)</td>\n",
       "      <td>BV</td>\n",
       "      <td>334200000.0</td>\n",
       "      <td>691300000</td>\n",
       "      <td>2010</td>\n",
       "    </tr>\n",
       "    <tr>\n",
       "      <th>2</th>\n",
       "      <td>Harry Potter and the Deathly Hallows Part 1</td>\n",
       "      <td>WB</td>\n",
       "      <td>296000000.0</td>\n",
       "      <td>664300000</td>\n",
       "      <td>2010</td>\n",
       "    </tr>\n",
       "    <tr>\n",
       "      <th>3</th>\n",
       "      <td>Inception</td>\n",
       "      <td>WB</td>\n",
       "      <td>292600000.0</td>\n",
       "      <td>535700000</td>\n",
       "      <td>2010</td>\n",
       "    </tr>\n",
       "    <tr>\n",
       "      <th>4</th>\n",
       "      <td>Shrek Forever After</td>\n",
       "      <td>P/DW</td>\n",
       "      <td>238700000.0</td>\n",
       "      <td>513900000</td>\n",
       "      <td>2010</td>\n",
       "    </tr>\n",
       "  </tbody>\n",
       "</table>\n",
       "</div>"
      ],
      "text/plain": [
       "                                         title studio  domestic_gross  \\\n",
       "0                                  Toy Story 3     BV     415000000.0   \n",
       "1                   Alice in Wonderland (2010)     BV     334200000.0   \n",
       "2  Harry Potter and the Deathly Hallows Part 1     WB     296000000.0   \n",
       "3                                    Inception     WB     292600000.0   \n",
       "4                          Shrek Forever After   P/DW     238700000.0   \n",
       "\n",
       "  foreign_gross  year  \n",
       "0     652000000  2010  \n",
       "1     691300000  2010  \n",
       "2     664300000  2010  \n",
       "3     535700000  2010  \n",
       "4     513900000  2010  "
      ]
     },
     "execution_count": 7,
     "metadata": {},
     "output_type": "execute_result"
    }
   ],
   "source": [
    "# initial table data\n",
    "bm = hf.load_table(conn, \"bom_movie_gross\")\n",
    "bm.head()"
   ]
  },
  {
   "cell_type": "code",
   "execution_count": 8,
   "metadata": {},
   "outputs": [
    {
     "data": {
      "text/plain": [
       "(3387, 5)"
      ]
     },
     "execution_count": 8,
     "metadata": {},
     "output_type": "execute_result"
    }
   ],
   "source": [
    "bm.shape"
   ]
  },
  {
   "cell_type": "code",
   "execution_count": 9,
   "metadata": {},
   "outputs": [
    {
     "data": {
      "text/plain": [
       "studio\n",
       "3D        1\n",
       "A23       2\n",
       "A24      49\n",
       "ADC       2\n",
       "AF        6\n",
       "         ..\n",
       "XL        2\n",
       "YFG       1\n",
       "Yash     14\n",
       "Zee       1\n",
       "Zeit.    16\n",
       "Name: studio, Length: 257, dtype: int64"
      ]
     },
     "execution_count": 9,
     "metadata": {},
     "output_type": "execute_result"
    }
   ],
   "source": [
    "# studio count\n",
    "bm.groupby('studio')['studio'].agg('count')"
   ]
  },
  {
   "cell_type": "code",
   "execution_count": 10,
   "metadata": {},
   "outputs": [
    {
     "data": {
      "text/plain": [
       "title             0\n",
       "studio            0\n",
       "domestic_gross    0\n",
       "foreign_gross     0\n",
       "year              0\n",
       "dtype: int64"
      ]
     },
     "execution_count": 10,
     "metadata": {},
     "output_type": "execute_result"
    }
   ],
   "source": [
    "# dropping NaN's from domestic_gross and the 5 missing studio values\n",
    "# title                0\n",
    "# studio               5\n",
    "# domestic_gross      28\n",
    "# foreign_gross     1350\n",
    "# year                 0\n",
    "bm1 = bm.dropna()\n",
    "bm1.isna().sum()"
   ]
  },
  {
   "cell_type": "code",
   "execution_count": 11,
   "metadata": {},
   "outputs": [],
   "source": [
    "# dropping foreign gross from table > 30% NaN\n",
    "# dropped year, time not a factor\n",
    "bm2 = bm1.drop(['foreign_gross', 'year'], axis='columns')"
   ]
  },
  {
   "cell_type": "code",
   "execution_count": 12,
   "metadata": {},
   "outputs": [
    {
     "data": {
      "text/html": [
       "<div>\n",
       "<style scoped>\n",
       "    .dataframe tbody tr th:only-of-type {\n",
       "        vertical-align: middle;\n",
       "    }\n",
       "\n",
       "    .dataframe tbody tr th {\n",
       "        vertical-align: top;\n",
       "    }\n",
       "\n",
       "    .dataframe thead th {\n",
       "        text-align: right;\n",
       "    }\n",
       "</style>\n",
       "<table border=\"1\" class=\"dataframe\">\n",
       "  <thead>\n",
       "    <tr style=\"text-align: right;\">\n",
       "      <th></th>\n",
       "      <th>title</th>\n",
       "      <th>studio</th>\n",
       "      <th>domestic_gross</th>\n",
       "    </tr>\n",
       "  </thead>\n",
       "  <tbody>\n",
       "    <tr>\n",
       "      <th>0</th>\n",
       "      <td>Toy Story 3</td>\n",
       "      <td>BV</td>\n",
       "      <td>415000000.0</td>\n",
       "    </tr>\n",
       "    <tr>\n",
       "      <th>1</th>\n",
       "      <td>Alice in Wonderland (2010)</td>\n",
       "      <td>BV</td>\n",
       "      <td>334200000.0</td>\n",
       "    </tr>\n",
       "    <tr>\n",
       "      <th>2</th>\n",
       "      <td>Harry Potter and the Deathly Hallows Part 1</td>\n",
       "      <td>WB</td>\n",
       "      <td>296000000.0</td>\n",
       "    </tr>\n",
       "    <tr>\n",
       "      <th>3</th>\n",
       "      <td>Inception</td>\n",
       "      <td>WB</td>\n",
       "      <td>292600000.0</td>\n",
       "    </tr>\n",
       "    <tr>\n",
       "      <th>4</th>\n",
       "      <td>Shrek Forever After</td>\n",
       "      <td>P/DW</td>\n",
       "      <td>238700000.0</td>\n",
       "    </tr>\n",
       "    <tr>\n",
       "      <th>...</th>\n",
       "      <td>...</td>\n",
       "      <td>...</td>\n",
       "      <td>...</td>\n",
       "    </tr>\n",
       "    <tr>\n",
       "      <th>3275</th>\n",
       "      <td>I Still See You</td>\n",
       "      <td>LGF</td>\n",
       "      <td>1400.0</td>\n",
       "    </tr>\n",
       "    <tr>\n",
       "      <th>3286</th>\n",
       "      <td>The Catcher Was a Spy</td>\n",
       "      <td>IFC</td>\n",
       "      <td>725000.0</td>\n",
       "    </tr>\n",
       "    <tr>\n",
       "      <th>3309</th>\n",
       "      <td>Time Freak</td>\n",
       "      <td>Grindstone</td>\n",
       "      <td>10000.0</td>\n",
       "    </tr>\n",
       "    <tr>\n",
       "      <th>3342</th>\n",
       "      <td>Reign of Judges: Title of Liberty - Concept Short</td>\n",
       "      <td>Darin Southa</td>\n",
       "      <td>93200.0</td>\n",
       "    </tr>\n",
       "    <tr>\n",
       "      <th>3353</th>\n",
       "      <td>Antonio Lopez 1970: Sex Fashion &amp; Disco</td>\n",
       "      <td>FM</td>\n",
       "      <td>43200.0</td>\n",
       "    </tr>\n",
       "  </tbody>\n",
       "</table>\n",
       "<p>2007 rows × 3 columns</p>\n",
       "</div>"
      ],
      "text/plain": [
       "                                                  title        studio  \\\n",
       "0                                           Toy Story 3            BV   \n",
       "1                            Alice in Wonderland (2010)            BV   \n",
       "2           Harry Potter and the Deathly Hallows Part 1            WB   \n",
       "3                                             Inception            WB   \n",
       "4                                   Shrek Forever After          P/DW   \n",
       "...                                                 ...           ...   \n",
       "3275                                    I Still See You           LGF   \n",
       "3286                              The Catcher Was a Spy           IFC   \n",
       "3309                                         Time Freak    Grindstone   \n",
       "3342  Reign of Judges: Title of Liberty - Concept Short  Darin Southa   \n",
       "3353            Antonio Lopez 1970: Sex Fashion & Disco            FM   \n",
       "\n",
       "      domestic_gross  \n",
       "0        415000000.0  \n",
       "1        334200000.0  \n",
       "2        296000000.0  \n",
       "3        292600000.0  \n",
       "4        238700000.0  \n",
       "...              ...  \n",
       "3275          1400.0  \n",
       "3286        725000.0  \n",
       "3309         10000.0  \n",
       "3342         93200.0  \n",
       "3353         43200.0  \n",
       "\n",
       "[2007 rows x 3 columns]"
      ]
     },
     "execution_count": 12,
     "metadata": {},
     "output_type": "execute_result"
    }
   ],
   "source": [
    "bm2"
   ]
  },
  {
   "cell_type": "code",
   "execution_count": 13,
   "metadata": {},
   "outputs": [],
   "source": [
    "# bm3 = bm2.groupby('studio')['domestic_gross'].agg('sum').sort_values(ascending= False)\n",
    "# bm3.head()"
   ]
  },
  {
   "cell_type": "code",
   "execution_count": null,
   "metadata": {},
   "outputs": [],
   "source": []
  },
  {
   "cell_type": "code",
   "execution_count": null,
   "metadata": {},
   "outputs": [],
   "source": []
  },
  {
   "cell_type": "markdown",
   "metadata": {},
   "source": [
    "# tmdb_movies"
   ]
  },
  {
   "cell_type": "code",
   "execution_count": 14,
   "metadata": {},
   "outputs": [
    {
     "data": {
      "text/html": [
       "<div>\n",
       "<style scoped>\n",
       "    .dataframe tbody tr th:only-of-type {\n",
       "        vertical-align: middle;\n",
       "    }\n",
       "\n",
       "    .dataframe tbody tr th {\n",
       "        vertical-align: top;\n",
       "    }\n",
       "\n",
       "    .dataframe thead th {\n",
       "        text-align: right;\n",
       "    }\n",
       "</style>\n",
       "<table border=\"1\" class=\"dataframe\">\n",
       "  <thead>\n",
       "    <tr style=\"text-align: right;\">\n",
       "      <th></th>\n",
       "      <th>index</th>\n",
       "      <th>genre_ids</th>\n",
       "      <th>id</th>\n",
       "      <th>original_language</th>\n",
       "      <th>original_title</th>\n",
       "      <th>popularity</th>\n",
       "      <th>release_date</th>\n",
       "      <th>title</th>\n",
       "      <th>vote_average</th>\n",
       "      <th>vote_count</th>\n",
       "    </tr>\n",
       "  </thead>\n",
       "  <tbody>\n",
       "    <tr>\n",
       "      <th>0</th>\n",
       "      <td>0</td>\n",
       "      <td>[12, 14, 10751]</td>\n",
       "      <td>12444</td>\n",
       "      <td>en</td>\n",
       "      <td>Harry Potter and the Deathly Hallows: Part 1</td>\n",
       "      <td>33.533</td>\n",
       "      <td>2010-11-19</td>\n",
       "      <td>Harry Potter and the Deathly Hallows: Part 1</td>\n",
       "      <td>7.7</td>\n",
       "      <td>10788</td>\n",
       "    </tr>\n",
       "    <tr>\n",
       "      <th>1</th>\n",
       "      <td>1</td>\n",
       "      <td>[14, 12, 16, 10751]</td>\n",
       "      <td>10191</td>\n",
       "      <td>en</td>\n",
       "      <td>How to Train Your Dragon</td>\n",
       "      <td>28.734</td>\n",
       "      <td>2010-03-26</td>\n",
       "      <td>How to Train Your Dragon</td>\n",
       "      <td>7.7</td>\n",
       "      <td>7610</td>\n",
       "    </tr>\n",
       "    <tr>\n",
       "      <th>2</th>\n",
       "      <td>2</td>\n",
       "      <td>[12, 28, 878]</td>\n",
       "      <td>10138</td>\n",
       "      <td>en</td>\n",
       "      <td>Iron Man 2</td>\n",
       "      <td>28.515</td>\n",
       "      <td>2010-05-07</td>\n",
       "      <td>Iron Man 2</td>\n",
       "      <td>6.8</td>\n",
       "      <td>12368</td>\n",
       "    </tr>\n",
       "    <tr>\n",
       "      <th>3</th>\n",
       "      <td>3</td>\n",
       "      <td>[16, 35, 10751]</td>\n",
       "      <td>862</td>\n",
       "      <td>en</td>\n",
       "      <td>Toy Story</td>\n",
       "      <td>28.005</td>\n",
       "      <td>1995-11-22</td>\n",
       "      <td>Toy Story</td>\n",
       "      <td>7.9</td>\n",
       "      <td>10174</td>\n",
       "    </tr>\n",
       "    <tr>\n",
       "      <th>4</th>\n",
       "      <td>4</td>\n",
       "      <td>[28, 878, 12]</td>\n",
       "      <td>27205</td>\n",
       "      <td>en</td>\n",
       "      <td>Inception</td>\n",
       "      <td>27.920</td>\n",
       "      <td>2010-07-16</td>\n",
       "      <td>Inception</td>\n",
       "      <td>8.3</td>\n",
       "      <td>22186</td>\n",
       "    </tr>\n",
       "  </tbody>\n",
       "</table>\n",
       "</div>"
      ],
      "text/plain": [
       "   index            genre_ids     id original_language  \\\n",
       "0      0      [12, 14, 10751]  12444                en   \n",
       "1      1  [14, 12, 16, 10751]  10191                en   \n",
       "2      2        [12, 28, 878]  10138                en   \n",
       "3      3      [16, 35, 10751]    862                en   \n",
       "4      4        [28, 878, 12]  27205                en   \n",
       "\n",
       "                                 original_title  popularity release_date  \\\n",
       "0  Harry Potter and the Deathly Hallows: Part 1      33.533   2010-11-19   \n",
       "1                      How to Train Your Dragon      28.734   2010-03-26   \n",
       "2                                    Iron Man 2      28.515   2010-05-07   \n",
       "3                                     Toy Story      28.005   1995-11-22   \n",
       "4                                     Inception      27.920   2010-07-16   \n",
       "\n",
       "                                          title  vote_average  vote_count  \n",
       "0  Harry Potter and the Deathly Hallows: Part 1           7.7       10788  \n",
       "1                      How to Train Your Dragon           7.7        7610  \n",
       "2                                    Iron Man 2           6.8       12368  \n",
       "3                                     Toy Story           7.9       10174  \n",
       "4                                     Inception           8.3       22186  "
      ]
     },
     "execution_count": 14,
     "metadata": {},
     "output_type": "execute_result"
    }
   ],
   "source": [
    "tm = hf.load_table(conn, \"tmdb_movies\")\n",
    "tm.head()"
   ]
  },
  {
   "cell_type": "code",
   "execution_count": 15,
   "metadata": {},
   "outputs": [
    {
     "data": {
      "text/plain": [
       "(26517, 10)"
      ]
     },
     "execution_count": 15,
     "metadata": {},
     "output_type": "execute_result"
    }
   ],
   "source": [
    "tm.shape"
   ]
  },
  {
   "cell_type": "code",
   "execution_count": 16,
   "metadata": {},
   "outputs": [
    {
     "data": {
      "text/plain": [
       "index                0\n",
       "genre_ids            0\n",
       "id                   0\n",
       "original_language    0\n",
       "original_title       0\n",
       "popularity           0\n",
       "release_date         0\n",
       "title                0\n",
       "vote_average         0\n",
       "vote_count           0\n",
       "dtype: int64"
      ]
     },
     "execution_count": 16,
     "metadata": {},
     "output_type": "execute_result"
    }
   ],
   "source": [
    "tm.isna().sum()"
   ]
  },
  {
   "cell_type": "code",
   "execution_count": 17,
   "metadata": {},
   "outputs": [],
   "source": [
    "tm1 = tm.drop(['index', 'original_language', 'release_date'], axis='columns')"
   ]
  },
  {
   "cell_type": "code",
   "execution_count": 18,
   "metadata": {},
   "outputs": [
    {
     "data": {
      "text/html": [
       "<div>\n",
       "<style scoped>\n",
       "    .dataframe tbody tr th:only-of-type {\n",
       "        vertical-align: middle;\n",
       "    }\n",
       "\n",
       "    .dataframe tbody tr th {\n",
       "        vertical-align: top;\n",
       "    }\n",
       "\n",
       "    .dataframe thead th {\n",
       "        text-align: right;\n",
       "    }\n",
       "</style>\n",
       "<table border=\"1\" class=\"dataframe\">\n",
       "  <thead>\n",
       "    <tr style=\"text-align: right;\">\n",
       "      <th></th>\n",
       "      <th>genre_ids</th>\n",
       "      <th>id</th>\n",
       "      <th>original_title</th>\n",
       "      <th>popularity</th>\n",
       "      <th>title</th>\n",
       "      <th>vote_average</th>\n",
       "      <th>vote_count</th>\n",
       "    </tr>\n",
       "  </thead>\n",
       "  <tbody>\n",
       "    <tr>\n",
       "      <th>0</th>\n",
       "      <td>[12, 14, 10751]</td>\n",
       "      <td>12444</td>\n",
       "      <td>Harry Potter and the Deathly Hallows: Part 1</td>\n",
       "      <td>33.533</td>\n",
       "      <td>Harry Potter and the Deathly Hallows: Part 1</td>\n",
       "      <td>7.7</td>\n",
       "      <td>10788</td>\n",
       "    </tr>\n",
       "    <tr>\n",
       "      <th>1</th>\n",
       "      <td>[14, 12, 16, 10751]</td>\n",
       "      <td>10191</td>\n",
       "      <td>How to Train Your Dragon</td>\n",
       "      <td>28.734</td>\n",
       "      <td>How to Train Your Dragon</td>\n",
       "      <td>7.7</td>\n",
       "      <td>7610</td>\n",
       "    </tr>\n",
       "    <tr>\n",
       "      <th>2</th>\n",
       "      <td>[12, 28, 878]</td>\n",
       "      <td>10138</td>\n",
       "      <td>Iron Man 2</td>\n",
       "      <td>28.515</td>\n",
       "      <td>Iron Man 2</td>\n",
       "      <td>6.8</td>\n",
       "      <td>12368</td>\n",
       "    </tr>\n",
       "    <tr>\n",
       "      <th>3</th>\n",
       "      <td>[16, 35, 10751]</td>\n",
       "      <td>862</td>\n",
       "      <td>Toy Story</td>\n",
       "      <td>28.005</td>\n",
       "      <td>Toy Story</td>\n",
       "      <td>7.9</td>\n",
       "      <td>10174</td>\n",
       "    </tr>\n",
       "    <tr>\n",
       "      <th>4</th>\n",
       "      <td>[28, 878, 12]</td>\n",
       "      <td>27205</td>\n",
       "      <td>Inception</td>\n",
       "      <td>27.920</td>\n",
       "      <td>Inception</td>\n",
       "      <td>8.3</td>\n",
       "      <td>22186</td>\n",
       "    </tr>\n",
       "  </tbody>\n",
       "</table>\n",
       "</div>"
      ],
      "text/plain": [
       "             genre_ids     id                                original_title  \\\n",
       "0      [12, 14, 10751]  12444  Harry Potter and the Deathly Hallows: Part 1   \n",
       "1  [14, 12, 16, 10751]  10191                      How to Train Your Dragon   \n",
       "2        [12, 28, 878]  10138                                    Iron Man 2   \n",
       "3      [16, 35, 10751]    862                                     Toy Story   \n",
       "4        [28, 878, 12]  27205                                     Inception   \n",
       "\n",
       "   popularity                                         title  vote_average  \\\n",
       "0      33.533  Harry Potter and the Deathly Hallows: Part 1           7.7   \n",
       "1      28.734                      How to Train Your Dragon           7.7   \n",
       "2      28.515                                    Iron Man 2           6.8   \n",
       "3      28.005                                     Toy Story           7.9   \n",
       "4      27.920                                     Inception           8.3   \n",
       "\n",
       "   vote_count  \n",
       "0       10788  \n",
       "1        7610  \n",
       "2       12368  \n",
       "3       10174  \n",
       "4       22186  "
      ]
     },
     "execution_count": 18,
     "metadata": {},
     "output_type": "execute_result"
    }
   ],
   "source": [
    "tm1.head()"
   ]
  },
  {
   "cell_type": "code",
   "execution_count": null,
   "metadata": {},
   "outputs": [],
   "source": []
  },
  {
   "cell_type": "markdown",
   "metadata": {},
   "source": [
    "# tn_movie_budgets"
   ]
  },
  {
   "cell_type": "code",
   "execution_count": 19,
   "metadata": {},
   "outputs": [],
   "source": [
    "tn = hf.load_table(conn, \"tn_movie_budgets\")"
   ]
  },
  {
   "cell_type": "code",
   "execution_count": 20,
   "metadata": {},
   "outputs": [],
   "source": [
    "money_cols = ['production_budget', 'domestic_gross', 'worldwide_gross']\n",
    "\n",
    "for col in money_cols:\n",
    "    tn = hf.convert_dollars_to_int(tn, col)"
   ]
  },
  {
   "cell_type": "code",
   "execution_count": 21,
   "metadata": {},
   "outputs": [
    {
     "data": {
      "text/html": [
       "<div>\n",
       "<style scoped>\n",
       "    .dataframe tbody tr th:only-of-type {\n",
       "        vertical-align: middle;\n",
       "    }\n",
       "\n",
       "    .dataframe tbody tr th {\n",
       "        vertical-align: top;\n",
       "    }\n",
       "\n",
       "    .dataframe thead th {\n",
       "        text-align: right;\n",
       "    }\n",
       "</style>\n",
       "<table border=\"1\" class=\"dataframe\">\n",
       "  <thead>\n",
       "    <tr style=\"text-align: right;\">\n",
       "      <th></th>\n",
       "      <th>id</th>\n",
       "      <th>release_date</th>\n",
       "      <th>movie</th>\n",
       "      <th>production_budget</th>\n",
       "      <th>domestic_gross</th>\n",
       "      <th>worldwide_gross</th>\n",
       "    </tr>\n",
       "  </thead>\n",
       "  <tbody>\n",
       "    <tr>\n",
       "      <th>0</th>\n",
       "      <td>1</td>\n",
       "      <td>Dec 18, 2009</td>\n",
       "      <td>Avatar</td>\n",
       "      <td>425000000</td>\n",
       "      <td>760507625</td>\n",
       "      <td>2776345279</td>\n",
       "    </tr>\n",
       "    <tr>\n",
       "      <th>1</th>\n",
       "      <td>2</td>\n",
       "      <td>May 20, 2011</td>\n",
       "      <td>Pirates of the Caribbean: On Stranger Tides</td>\n",
       "      <td>410600000</td>\n",
       "      <td>241063875</td>\n",
       "      <td>1045663875</td>\n",
       "    </tr>\n",
       "    <tr>\n",
       "      <th>2</th>\n",
       "      <td>3</td>\n",
       "      <td>Jun 7, 2019</td>\n",
       "      <td>Dark Phoenix</td>\n",
       "      <td>350000000</td>\n",
       "      <td>42762350</td>\n",
       "      <td>149762350</td>\n",
       "    </tr>\n",
       "    <tr>\n",
       "      <th>3</th>\n",
       "      <td>4</td>\n",
       "      <td>May 1, 2015</td>\n",
       "      <td>Avengers: Age of Ultron</td>\n",
       "      <td>330600000</td>\n",
       "      <td>459005868</td>\n",
       "      <td>1403013963</td>\n",
       "    </tr>\n",
       "    <tr>\n",
       "      <th>4</th>\n",
       "      <td>5</td>\n",
       "      <td>Dec 15, 2017</td>\n",
       "      <td>Star Wars Ep. VIII: The Last Jedi</td>\n",
       "      <td>317000000</td>\n",
       "      <td>620181382</td>\n",
       "      <td>1316721747</td>\n",
       "    </tr>\n",
       "  </tbody>\n",
       "</table>\n",
       "</div>"
      ],
      "text/plain": [
       "   id  release_date                                        movie  \\\n",
       "0   1  Dec 18, 2009                                       Avatar   \n",
       "1   2  May 20, 2011  Pirates of the Caribbean: On Stranger Tides   \n",
       "2   3   Jun 7, 2019                                 Dark Phoenix   \n",
       "3   4   May 1, 2015                      Avengers: Age of Ultron   \n",
       "4   5  Dec 15, 2017            Star Wars Ep. VIII: The Last Jedi   \n",
       "\n",
       "   production_budget  domestic_gross  worldwide_gross  \n",
       "0          425000000       760507625       2776345279  \n",
       "1          410600000       241063875       1045663875  \n",
       "2          350000000        42762350        149762350  \n",
       "3          330600000       459005868       1403013963  \n",
       "4          317000000       620181382       1316721747  "
      ]
     },
     "execution_count": 21,
     "metadata": {},
     "output_type": "execute_result"
    }
   ],
   "source": [
    "tn.head()"
   ]
  },
  {
   "cell_type": "code",
   "execution_count": 22,
   "metadata": {},
   "outputs": [
    {
     "data": {
      "text/plain": [
       "(5782, 6)"
      ]
     },
     "execution_count": 22,
     "metadata": {},
     "output_type": "execute_result"
    }
   ],
   "source": [
    "tn.shape"
   ]
  },
  {
   "cell_type": "code",
   "execution_count": 23,
   "metadata": {},
   "outputs": [
    {
     "data": {
      "text/plain": [
       "id                   0\n",
       "release_date         0\n",
       "movie                0\n",
       "production_budget    0\n",
       "domestic_gross       0\n",
       "worldwide_gross      0\n",
       "dtype: int64"
      ]
     },
     "execution_count": 23,
     "metadata": {},
     "output_type": "execute_result"
    }
   ],
   "source": [
    "tn.isna().sum()"
   ]
  },
  {
   "cell_type": "code",
   "execution_count": 24,
   "metadata": {},
   "outputs": [],
   "source": [
    "tn1 = tn.drop(['release_date'], axis='columns')"
   ]
  },
  {
   "cell_type": "code",
   "execution_count": 25,
   "metadata": {},
   "outputs": [
    {
     "data": {
      "text/html": [
       "<div>\n",
       "<style scoped>\n",
       "    .dataframe tbody tr th:only-of-type {\n",
       "        vertical-align: middle;\n",
       "    }\n",
       "\n",
       "    .dataframe tbody tr th {\n",
       "        vertical-align: top;\n",
       "    }\n",
       "\n",
       "    .dataframe thead th {\n",
       "        text-align: right;\n",
       "    }\n",
       "</style>\n",
       "<table border=\"1\" class=\"dataframe\">\n",
       "  <thead>\n",
       "    <tr style=\"text-align: right;\">\n",
       "      <th></th>\n",
       "      <th>id</th>\n",
       "      <th>movie</th>\n",
       "      <th>production_budget</th>\n",
       "      <th>domestic_gross</th>\n",
       "      <th>worldwide_gross</th>\n",
       "    </tr>\n",
       "  </thead>\n",
       "  <tbody>\n",
       "    <tr>\n",
       "      <th>0</th>\n",
       "      <td>1</td>\n",
       "      <td>Avatar</td>\n",
       "      <td>425000000</td>\n",
       "      <td>760507625</td>\n",
       "      <td>2776345279</td>\n",
       "    </tr>\n",
       "    <tr>\n",
       "      <th>1</th>\n",
       "      <td>2</td>\n",
       "      <td>Pirates of the Caribbean: On Stranger Tides</td>\n",
       "      <td>410600000</td>\n",
       "      <td>241063875</td>\n",
       "      <td>1045663875</td>\n",
       "    </tr>\n",
       "    <tr>\n",
       "      <th>2</th>\n",
       "      <td>3</td>\n",
       "      <td>Dark Phoenix</td>\n",
       "      <td>350000000</td>\n",
       "      <td>42762350</td>\n",
       "      <td>149762350</td>\n",
       "    </tr>\n",
       "    <tr>\n",
       "      <th>3</th>\n",
       "      <td>4</td>\n",
       "      <td>Avengers: Age of Ultron</td>\n",
       "      <td>330600000</td>\n",
       "      <td>459005868</td>\n",
       "      <td>1403013963</td>\n",
       "    </tr>\n",
       "    <tr>\n",
       "      <th>4</th>\n",
       "      <td>5</td>\n",
       "      <td>Star Wars Ep. VIII: The Last Jedi</td>\n",
       "      <td>317000000</td>\n",
       "      <td>620181382</td>\n",
       "      <td>1316721747</td>\n",
       "    </tr>\n",
       "  </tbody>\n",
       "</table>\n",
       "</div>"
      ],
      "text/plain": [
       "   id                                        movie  production_budget  \\\n",
       "0   1                                       Avatar          425000000   \n",
       "1   2  Pirates of the Caribbean: On Stranger Tides          410600000   \n",
       "2   3                                 Dark Phoenix          350000000   \n",
       "3   4                      Avengers: Age of Ultron          330600000   \n",
       "4   5            Star Wars Ep. VIII: The Last Jedi          317000000   \n",
       "\n",
       "   domestic_gross  worldwide_gross  \n",
       "0       760507625       2776345279  \n",
       "1       241063875       1045663875  \n",
       "2        42762350        149762350  \n",
       "3       459005868       1403013963  \n",
       "4       620181382       1316721747  "
      ]
     },
     "execution_count": 25,
     "metadata": {},
     "output_type": "execute_result"
    }
   ],
   "source": [
    "tn1.head()"
   ]
  },
  {
   "cell_type": "code",
   "execution_count": 26,
   "metadata": {},
   "outputs": [],
   "source": [
    "tn1['profit'] = tn1['worldwide_gross']+tn1['domestic_gross'] - tn1['production_budget']"
   ]
  },
  {
   "cell_type": "code",
   "execution_count": 27,
   "metadata": {},
   "outputs": [
    {
     "data": {
      "text/html": [
       "<div>\n",
       "<style scoped>\n",
       "    .dataframe tbody tr th:only-of-type {\n",
       "        vertical-align: middle;\n",
       "    }\n",
       "\n",
       "    .dataframe tbody tr th {\n",
       "        vertical-align: top;\n",
       "    }\n",
       "\n",
       "    .dataframe thead th {\n",
       "        text-align: right;\n",
       "    }\n",
       "</style>\n",
       "<table border=\"1\" class=\"dataframe\">\n",
       "  <thead>\n",
       "    <tr style=\"text-align: right;\">\n",
       "      <th></th>\n",
       "      <th>id</th>\n",
       "      <th>movie</th>\n",
       "      <th>production_budget</th>\n",
       "      <th>domestic_gross</th>\n",
       "      <th>worldwide_gross</th>\n",
       "      <th>profit</th>\n",
       "    </tr>\n",
       "  </thead>\n",
       "  <tbody>\n",
       "    <tr>\n",
       "      <th>0</th>\n",
       "      <td>1</td>\n",
       "      <td>Avatar</td>\n",
       "      <td>425000000</td>\n",
       "      <td>760507625</td>\n",
       "      <td>2776345279</td>\n",
       "      <td>3111852904</td>\n",
       "    </tr>\n",
       "    <tr>\n",
       "      <th>1</th>\n",
       "      <td>2</td>\n",
       "      <td>Pirates of the Caribbean: On Stranger Tides</td>\n",
       "      <td>410600000</td>\n",
       "      <td>241063875</td>\n",
       "      <td>1045663875</td>\n",
       "      <td>876127750</td>\n",
       "    </tr>\n",
       "    <tr>\n",
       "      <th>2</th>\n",
       "      <td>3</td>\n",
       "      <td>Dark Phoenix</td>\n",
       "      <td>350000000</td>\n",
       "      <td>42762350</td>\n",
       "      <td>149762350</td>\n",
       "      <td>-157475300</td>\n",
       "    </tr>\n",
       "    <tr>\n",
       "      <th>3</th>\n",
       "      <td>4</td>\n",
       "      <td>Avengers: Age of Ultron</td>\n",
       "      <td>330600000</td>\n",
       "      <td>459005868</td>\n",
       "      <td>1403013963</td>\n",
       "      <td>1531419831</td>\n",
       "    </tr>\n",
       "    <tr>\n",
       "      <th>4</th>\n",
       "      <td>5</td>\n",
       "      <td>Star Wars Ep. VIII: The Last Jedi</td>\n",
       "      <td>317000000</td>\n",
       "      <td>620181382</td>\n",
       "      <td>1316721747</td>\n",
       "      <td>1619903129</td>\n",
       "    </tr>\n",
       "  </tbody>\n",
       "</table>\n",
       "</div>"
      ],
      "text/plain": [
       "   id                                        movie  production_budget  \\\n",
       "0   1                                       Avatar          425000000   \n",
       "1   2  Pirates of the Caribbean: On Stranger Tides          410600000   \n",
       "2   3                                 Dark Phoenix          350000000   \n",
       "3   4                      Avengers: Age of Ultron          330600000   \n",
       "4   5            Star Wars Ep. VIII: The Last Jedi          317000000   \n",
       "\n",
       "   domestic_gross  worldwide_gross      profit  \n",
       "0       760507625       2776345279  3111852904  \n",
       "1       241063875       1045663875   876127750  \n",
       "2        42762350        149762350  -157475300  \n",
       "3       459005868       1403013963  1531419831  \n",
       "4       620181382       1316721747  1619903129  "
      ]
     },
     "execution_count": 27,
     "metadata": {},
     "output_type": "execute_result"
    }
   ],
   "source": [
    "tn1.head()"
   ]
  },
  {
   "cell_type": "code",
   "execution_count": 47,
   "metadata": {},
   "outputs": [
    {
     "data": {
      "text/html": [
       "<div>\n",
       "<style scoped>\n",
       "    .dataframe tbody tr th:only-of-type {\n",
       "        vertical-align: middle;\n",
       "    }\n",
       "\n",
       "    .dataframe tbody tr th {\n",
       "        vertical-align: top;\n",
       "    }\n",
       "\n",
       "    .dataframe thead th {\n",
       "        text-align: right;\n",
       "    }\n",
       "</style>\n",
       "<table border=\"1\" class=\"dataframe\">\n",
       "  <thead>\n",
       "    <tr style=\"text-align: right;\">\n",
       "      <th></th>\n",
       "      <th>id</th>\n",
       "      <th>title</th>\n",
       "      <th>production_budget</th>\n",
       "      <th>domestic_gross</th>\n",
       "      <th>worldwide_gross</th>\n",
       "      <th>profit</th>\n",
       "    </tr>\n",
       "  </thead>\n",
       "  <tbody>\n",
       "    <tr>\n",
       "      <th>0</th>\n",
       "      <td>1</td>\n",
       "      <td>Avatar</td>\n",
       "      <td>425000000</td>\n",
       "      <td>760507625</td>\n",
       "      <td>2776345279</td>\n",
       "      <td>3111852904</td>\n",
       "    </tr>\n",
       "    <tr>\n",
       "      <th>1</th>\n",
       "      <td>2</td>\n",
       "      <td>Pirates of the Caribbean: On Stranger Tides</td>\n",
       "      <td>410600000</td>\n",
       "      <td>241063875</td>\n",
       "      <td>1045663875</td>\n",
       "      <td>876127750</td>\n",
       "    </tr>\n",
       "    <tr>\n",
       "      <th>2</th>\n",
       "      <td>3</td>\n",
       "      <td>Dark Phoenix</td>\n",
       "      <td>350000000</td>\n",
       "      <td>42762350</td>\n",
       "      <td>149762350</td>\n",
       "      <td>-157475300</td>\n",
       "    </tr>\n",
       "    <tr>\n",
       "      <th>3</th>\n",
       "      <td>4</td>\n",
       "      <td>Avengers: Age of Ultron</td>\n",
       "      <td>330600000</td>\n",
       "      <td>459005868</td>\n",
       "      <td>1403013963</td>\n",
       "      <td>1531419831</td>\n",
       "    </tr>\n",
       "    <tr>\n",
       "      <th>4</th>\n",
       "      <td>5</td>\n",
       "      <td>Star Wars Ep. VIII: The Last Jedi</td>\n",
       "      <td>317000000</td>\n",
       "      <td>620181382</td>\n",
       "      <td>1316721747</td>\n",
       "      <td>1619903129</td>\n",
       "    </tr>\n",
       "  </tbody>\n",
       "</table>\n",
       "</div>"
      ],
      "text/plain": [
       "   id                                        title  production_budget  \\\n",
       "0   1                                       Avatar          425000000   \n",
       "1   2  Pirates of the Caribbean: On Stranger Tides          410600000   \n",
       "2   3                                 Dark Phoenix          350000000   \n",
       "3   4                      Avengers: Age of Ultron          330600000   \n",
       "4   5            Star Wars Ep. VIII: The Last Jedi          317000000   \n",
       "\n",
       "   domestic_gross  worldwide_gross      profit  \n",
       "0       760507625       2776345279  3111852904  \n",
       "1       241063875       1045663875   876127750  \n",
       "2        42762350        149762350  -157475300  \n",
       "3       459005868       1403013963  1531419831  \n",
       "4       620181382       1316721747  1619903129  "
      ]
     },
     "execution_count": 47,
     "metadata": {},
     "output_type": "execute_result"
    }
   ],
   "source": [
    "tn2 = tn1.rename(columns={'movie': 'title'})\n",
    "tn2.head()"
   ]
  },
  {
   "cell_type": "markdown",
   "metadata": {},
   "source": [
    "# title_basics"
   ]
  },
  {
   "cell_type": "code",
   "execution_count": 29,
   "metadata": {},
   "outputs": [
    {
     "data": {
      "text/html": [
       "<div>\n",
       "<style scoped>\n",
       "    .dataframe tbody tr th:only-of-type {\n",
       "        vertical-align: middle;\n",
       "    }\n",
       "\n",
       "    .dataframe tbody tr th {\n",
       "        vertical-align: top;\n",
       "    }\n",
       "\n",
       "    .dataframe thead th {\n",
       "        text-align: right;\n",
       "    }\n",
       "</style>\n",
       "<table border=\"1\" class=\"dataframe\">\n",
       "  <thead>\n",
       "    <tr style=\"text-align: right;\">\n",
       "      <th></th>\n",
       "      <th>tconst</th>\n",
       "      <th>primary_title</th>\n",
       "      <th>original_title</th>\n",
       "      <th>start_year</th>\n",
       "      <th>runtime_minutes</th>\n",
       "      <th>genres</th>\n",
       "    </tr>\n",
       "  </thead>\n",
       "  <tbody>\n",
       "    <tr>\n",
       "      <th>0</th>\n",
       "      <td>tt0063540</td>\n",
       "      <td>Sunghursh</td>\n",
       "      <td>Sunghursh</td>\n",
       "      <td>2013</td>\n",
       "      <td>175.0</td>\n",
       "      <td>Action,Crime,Drama</td>\n",
       "    </tr>\n",
       "    <tr>\n",
       "      <th>1</th>\n",
       "      <td>tt0066787</td>\n",
       "      <td>One Day Before the Rainy Season</td>\n",
       "      <td>Ashad Ka Ek Din</td>\n",
       "      <td>2019</td>\n",
       "      <td>114.0</td>\n",
       "      <td>Biography,Drama</td>\n",
       "    </tr>\n",
       "    <tr>\n",
       "      <th>2</th>\n",
       "      <td>tt0069049</td>\n",
       "      <td>The Other Side of the Wind</td>\n",
       "      <td>The Other Side of the Wind</td>\n",
       "      <td>2018</td>\n",
       "      <td>122.0</td>\n",
       "      <td>Drama</td>\n",
       "    </tr>\n",
       "    <tr>\n",
       "      <th>3</th>\n",
       "      <td>tt0069204</td>\n",
       "      <td>Sabse Bada Sukh</td>\n",
       "      <td>Sabse Bada Sukh</td>\n",
       "      <td>2018</td>\n",
       "      <td>NaN</td>\n",
       "      <td>Comedy,Drama</td>\n",
       "    </tr>\n",
       "    <tr>\n",
       "      <th>4</th>\n",
       "      <td>tt0100275</td>\n",
       "      <td>The Wandering Soap Opera</td>\n",
       "      <td>La Telenovela Errante</td>\n",
       "      <td>2017</td>\n",
       "      <td>80.0</td>\n",
       "      <td>Comedy,Drama,Fantasy</td>\n",
       "    </tr>\n",
       "  </tbody>\n",
       "</table>\n",
       "</div>"
      ],
      "text/plain": [
       "      tconst                    primary_title              original_title  \\\n",
       "0  tt0063540                        Sunghursh                   Sunghursh   \n",
       "1  tt0066787  One Day Before the Rainy Season             Ashad Ka Ek Din   \n",
       "2  tt0069049       The Other Side of the Wind  The Other Side of the Wind   \n",
       "3  tt0069204                  Sabse Bada Sukh             Sabse Bada Sukh   \n",
       "4  tt0100275         The Wandering Soap Opera       La Telenovela Errante   \n",
       "\n",
       "   start_year  runtime_minutes                genres  \n",
       "0        2013            175.0    Action,Crime,Drama  \n",
       "1        2019            114.0       Biography,Drama  \n",
       "2        2018            122.0                 Drama  \n",
       "3        2018              NaN          Comedy,Drama  \n",
       "4        2017             80.0  Comedy,Drama,Fantasy  "
      ]
     },
     "execution_count": 29,
     "metadata": {},
     "output_type": "execute_result"
    }
   ],
   "source": [
    "tb = hf.load_table(conn, \"title_basics\")\n",
    "tb.head()"
   ]
  },
  {
   "cell_type": "code",
   "execution_count": 30,
   "metadata": {},
   "outputs": [
    {
     "data": {
      "text/plain": [
       "(146144, 6)"
      ]
     },
     "execution_count": 30,
     "metadata": {},
     "output_type": "execute_result"
    }
   ],
   "source": [
    "tb.shape"
   ]
  },
  {
   "cell_type": "code",
   "execution_count": 31,
   "metadata": {},
   "outputs": [
    {
     "data": {
      "text/plain": [
       "tconst                 0\n",
       "primary_title          0\n",
       "original_title        21\n",
       "start_year             0\n",
       "runtime_minutes    31739\n",
       "genres              5408\n",
       "dtype: int64"
      ]
     },
     "execution_count": 31,
     "metadata": {},
     "output_type": "execute_result"
    }
   ],
   "source": [
    "tb.isna().sum()"
   ]
  },
  {
   "cell_type": "code",
   "execution_count": 32,
   "metadata": {},
   "outputs": [],
   "source": [
    "tb1 = tb.drop(['original_title', 'start_year', 'runtime_minutes'], axis='columns')"
   ]
  },
  {
   "cell_type": "code",
   "execution_count": 33,
   "metadata": {},
   "outputs": [
    {
     "data": {
      "text/html": [
       "<div>\n",
       "<style scoped>\n",
       "    .dataframe tbody tr th:only-of-type {\n",
       "        vertical-align: middle;\n",
       "    }\n",
       "\n",
       "    .dataframe tbody tr th {\n",
       "        vertical-align: top;\n",
       "    }\n",
       "\n",
       "    .dataframe thead th {\n",
       "        text-align: right;\n",
       "    }\n",
       "</style>\n",
       "<table border=\"1\" class=\"dataframe\">\n",
       "  <thead>\n",
       "    <tr style=\"text-align: right;\">\n",
       "      <th></th>\n",
       "      <th>tconst</th>\n",
       "      <th>primary_title</th>\n",
       "      <th>genres</th>\n",
       "    </tr>\n",
       "  </thead>\n",
       "  <tbody>\n",
       "    <tr>\n",
       "      <th>0</th>\n",
       "      <td>tt0063540</td>\n",
       "      <td>Sunghursh</td>\n",
       "      <td>Action,Crime,Drama</td>\n",
       "    </tr>\n",
       "    <tr>\n",
       "      <th>1</th>\n",
       "      <td>tt0066787</td>\n",
       "      <td>One Day Before the Rainy Season</td>\n",
       "      <td>Biography,Drama</td>\n",
       "    </tr>\n",
       "    <tr>\n",
       "      <th>2</th>\n",
       "      <td>tt0069049</td>\n",
       "      <td>The Other Side of the Wind</td>\n",
       "      <td>Drama</td>\n",
       "    </tr>\n",
       "    <tr>\n",
       "      <th>3</th>\n",
       "      <td>tt0069204</td>\n",
       "      <td>Sabse Bada Sukh</td>\n",
       "      <td>Comedy,Drama</td>\n",
       "    </tr>\n",
       "    <tr>\n",
       "      <th>4</th>\n",
       "      <td>tt0100275</td>\n",
       "      <td>The Wandering Soap Opera</td>\n",
       "      <td>Comedy,Drama,Fantasy</td>\n",
       "    </tr>\n",
       "  </tbody>\n",
       "</table>\n",
       "</div>"
      ],
      "text/plain": [
       "      tconst                    primary_title                genres\n",
       "0  tt0063540                        Sunghursh    Action,Crime,Drama\n",
       "1  tt0066787  One Day Before the Rainy Season       Biography,Drama\n",
       "2  tt0069049       The Other Side of the Wind                 Drama\n",
       "3  tt0069204                  Sabse Bada Sukh          Comedy,Drama\n",
       "4  tt0100275         The Wandering Soap Opera  Comedy,Drama,Fantasy"
      ]
     },
     "execution_count": 33,
     "metadata": {},
     "output_type": "execute_result"
    }
   ],
   "source": [
    "tb1.head()"
   ]
  },
  {
   "cell_type": "code",
   "execution_count": null,
   "metadata": {},
   "outputs": [],
   "source": []
  },
  {
   "cell_type": "markdown",
   "metadata": {},
   "source": [
    "# title_ratings"
   ]
  },
  {
   "cell_type": "code",
   "execution_count": 34,
   "metadata": {},
   "outputs": [
    {
     "data": {
      "text/html": [
       "<div>\n",
       "<style scoped>\n",
       "    .dataframe tbody tr th:only-of-type {\n",
       "        vertical-align: middle;\n",
       "    }\n",
       "\n",
       "    .dataframe tbody tr th {\n",
       "        vertical-align: top;\n",
       "    }\n",
       "\n",
       "    .dataframe thead th {\n",
       "        text-align: right;\n",
       "    }\n",
       "</style>\n",
       "<table border=\"1\" class=\"dataframe\">\n",
       "  <thead>\n",
       "    <tr style=\"text-align: right;\">\n",
       "      <th></th>\n",
       "      <th>tconst</th>\n",
       "      <th>averagerating</th>\n",
       "      <th>numvotes</th>\n",
       "    </tr>\n",
       "  </thead>\n",
       "  <tbody>\n",
       "    <tr>\n",
       "      <th>0</th>\n",
       "      <td>tt10356526</td>\n",
       "      <td>8.3</td>\n",
       "      <td>31</td>\n",
       "    </tr>\n",
       "    <tr>\n",
       "      <th>1</th>\n",
       "      <td>tt10384606</td>\n",
       "      <td>8.9</td>\n",
       "      <td>559</td>\n",
       "    </tr>\n",
       "    <tr>\n",
       "      <th>2</th>\n",
       "      <td>tt1042974</td>\n",
       "      <td>6.4</td>\n",
       "      <td>20</td>\n",
       "    </tr>\n",
       "    <tr>\n",
       "      <th>3</th>\n",
       "      <td>tt1043726</td>\n",
       "      <td>4.2</td>\n",
       "      <td>50352</td>\n",
       "    </tr>\n",
       "    <tr>\n",
       "      <th>4</th>\n",
       "      <td>tt1060240</td>\n",
       "      <td>6.5</td>\n",
       "      <td>21</td>\n",
       "    </tr>\n",
       "  </tbody>\n",
       "</table>\n",
       "</div>"
      ],
      "text/plain": [
       "       tconst  averagerating  numvotes\n",
       "0  tt10356526            8.3        31\n",
       "1  tt10384606            8.9       559\n",
       "2   tt1042974            6.4        20\n",
       "3   tt1043726            4.2     50352\n",
       "4   tt1060240            6.5        21"
      ]
     },
     "execution_count": 34,
     "metadata": {},
     "output_type": "execute_result"
    }
   ],
   "source": [
    "tr = hf.load_table(conn, \"title_ratings\")\n",
    "tr.head()"
   ]
  },
  {
   "cell_type": "code",
   "execution_count": 35,
   "metadata": {},
   "outputs": [
    {
     "data": {
      "text/plain": [
       "(73856, 3)"
      ]
     },
     "execution_count": 35,
     "metadata": {},
     "output_type": "execute_result"
    }
   ],
   "source": [
    "tr.shape"
   ]
  },
  {
   "cell_type": "code",
   "execution_count": 36,
   "metadata": {},
   "outputs": [
    {
     "data": {
      "text/plain": [
       "tconst           0\n",
       "averagerating    0\n",
       "numvotes         0\n",
       "dtype: int64"
      ]
     },
     "execution_count": 36,
     "metadata": {},
     "output_type": "execute_result"
    }
   ],
   "source": [
    "tr.isna().sum()"
   ]
  },
  {
   "cell_type": "code",
   "execution_count": 37,
   "metadata": {},
   "outputs": [],
   "source": [
    "# renaming col\n",
    "tr.rename(columns={'averagerating': 'average_rating'}, inplace= True)"
   ]
  },
  {
   "cell_type": "code",
   "execution_count": 38,
   "metadata": {},
   "outputs": [
    {
     "data": {
      "text/html": [
       "<div>\n",
       "<style scoped>\n",
       "    .dataframe tbody tr th:only-of-type {\n",
       "        vertical-align: middle;\n",
       "    }\n",
       "\n",
       "    .dataframe tbody tr th {\n",
       "        vertical-align: top;\n",
       "    }\n",
       "\n",
       "    .dataframe thead th {\n",
       "        text-align: right;\n",
       "    }\n",
       "</style>\n",
       "<table border=\"1\" class=\"dataframe\">\n",
       "  <thead>\n",
       "    <tr style=\"text-align: right;\">\n",
       "      <th></th>\n",
       "      <th>tconst</th>\n",
       "      <th>average_rating</th>\n",
       "      <th>numvotes</th>\n",
       "    </tr>\n",
       "  </thead>\n",
       "  <tbody>\n",
       "    <tr>\n",
       "      <th>0</th>\n",
       "      <td>tt10356526</td>\n",
       "      <td>8.3</td>\n",
       "      <td>31</td>\n",
       "    </tr>\n",
       "    <tr>\n",
       "      <th>1</th>\n",
       "      <td>tt10384606</td>\n",
       "      <td>8.9</td>\n",
       "      <td>559</td>\n",
       "    </tr>\n",
       "    <tr>\n",
       "      <th>2</th>\n",
       "      <td>tt1042974</td>\n",
       "      <td>6.4</td>\n",
       "      <td>20</td>\n",
       "    </tr>\n",
       "    <tr>\n",
       "      <th>3</th>\n",
       "      <td>tt1043726</td>\n",
       "      <td>4.2</td>\n",
       "      <td>50352</td>\n",
       "    </tr>\n",
       "    <tr>\n",
       "      <th>4</th>\n",
       "      <td>tt1060240</td>\n",
       "      <td>6.5</td>\n",
       "      <td>21</td>\n",
       "    </tr>\n",
       "  </tbody>\n",
       "</table>\n",
       "</div>"
      ],
      "text/plain": [
       "       tconst  average_rating  numvotes\n",
       "0  tt10356526             8.3        31\n",
       "1  tt10384606             8.9       559\n",
       "2   tt1042974             6.4        20\n",
       "3   tt1043726             4.2     50352\n",
       "4   tt1060240             6.5        21"
      ]
     },
     "execution_count": 38,
     "metadata": {},
     "output_type": "execute_result"
    }
   ],
   "source": [
    "tr.head()"
   ]
  },
  {
   "cell_type": "code",
   "execution_count": 39,
   "metadata": {},
   "outputs": [
    {
     "data": {
      "text/plain": [
       "count    7.385600e+04\n",
       "mean     3.523662e+03\n",
       "std      3.029402e+04\n",
       "min      5.000000e+00\n",
       "25%      1.400000e+01\n",
       "50%      4.900000e+01\n",
       "75%      2.820000e+02\n",
       "max      1.841066e+06\n",
       "Name: numvotes, dtype: float64"
      ]
     },
     "execution_count": 39,
     "metadata": {},
     "output_type": "execute_result"
    }
   ],
   "source": [
    "tr['numvotes'].describe()"
   ]
  },
  {
   "cell_type": "code",
   "execution_count": null,
   "metadata": {},
   "outputs": [],
   "source": []
  },
  {
   "cell_type": "markdown",
   "metadata": {},
   "source": [
    "# Merging DataFrames"
   ]
  },
  {
   "cell_type": "code",
   "execution_count": 40,
   "metadata": {},
   "outputs": [
    {
     "data": {
      "text/html": [
       "<div>\n",
       "<style scoped>\n",
       "    .dataframe tbody tr th:only-of-type {\n",
       "        vertical-align: middle;\n",
       "    }\n",
       "\n",
       "    .dataframe tbody tr th {\n",
       "        vertical-align: top;\n",
       "    }\n",
       "\n",
       "    .dataframe thead th {\n",
       "        text-align: right;\n",
       "    }\n",
       "</style>\n",
       "<table border=\"1\" class=\"dataframe\">\n",
       "  <thead>\n",
       "    <tr style=\"text-align: right;\">\n",
       "      <th></th>\n",
       "      <th>tconst</th>\n",
       "      <th>primary_title</th>\n",
       "      <th>genres</th>\n",
       "      <th>average_rating</th>\n",
       "      <th>numvotes</th>\n",
       "    </tr>\n",
       "  </thead>\n",
       "  <tbody>\n",
       "    <tr>\n",
       "      <th>0</th>\n",
       "      <td>tt0063540</td>\n",
       "      <td>Sunghursh</td>\n",
       "      <td>Action,Crime,Drama</td>\n",
       "      <td>7.0</td>\n",
       "      <td>77</td>\n",
       "    </tr>\n",
       "    <tr>\n",
       "      <th>1</th>\n",
       "      <td>tt0066787</td>\n",
       "      <td>One Day Before the Rainy Season</td>\n",
       "      <td>Biography,Drama</td>\n",
       "      <td>7.2</td>\n",
       "      <td>43</td>\n",
       "    </tr>\n",
       "    <tr>\n",
       "      <th>2</th>\n",
       "      <td>tt0069049</td>\n",
       "      <td>The Other Side of the Wind</td>\n",
       "      <td>Drama</td>\n",
       "      <td>6.9</td>\n",
       "      <td>4517</td>\n",
       "    </tr>\n",
       "    <tr>\n",
       "      <th>3</th>\n",
       "      <td>tt0069204</td>\n",
       "      <td>Sabse Bada Sukh</td>\n",
       "      <td>Comedy,Drama</td>\n",
       "      <td>6.1</td>\n",
       "      <td>13</td>\n",
       "    </tr>\n",
       "    <tr>\n",
       "      <th>4</th>\n",
       "      <td>tt0100275</td>\n",
       "      <td>The Wandering Soap Opera</td>\n",
       "      <td>Comedy,Drama,Fantasy</td>\n",
       "      <td>6.5</td>\n",
       "      <td>119</td>\n",
       "    </tr>\n",
       "    <tr>\n",
       "      <th>...</th>\n",
       "      <td>...</td>\n",
       "      <td>...</td>\n",
       "      <td>...</td>\n",
       "      <td>...</td>\n",
       "      <td>...</td>\n",
       "    </tr>\n",
       "    <tr>\n",
       "      <th>73851</th>\n",
       "      <td>tt9913084</td>\n",
       "      <td>Diabolik sono io</td>\n",
       "      <td>Documentary</td>\n",
       "      <td>6.2</td>\n",
       "      <td>6</td>\n",
       "    </tr>\n",
       "    <tr>\n",
       "      <th>73852</th>\n",
       "      <td>tt9914286</td>\n",
       "      <td>Sokagin Çocuklari</td>\n",
       "      <td>Drama,Family</td>\n",
       "      <td>8.7</td>\n",
       "      <td>136</td>\n",
       "    </tr>\n",
       "    <tr>\n",
       "      <th>73853</th>\n",
       "      <td>tt9914642</td>\n",
       "      <td>Albatross</td>\n",
       "      <td>Documentary</td>\n",
       "      <td>8.5</td>\n",
       "      <td>8</td>\n",
       "    </tr>\n",
       "    <tr>\n",
       "      <th>73854</th>\n",
       "      <td>tt9914942</td>\n",
       "      <td>La vida sense la Sara Amat</td>\n",
       "      <td>None</td>\n",
       "      <td>6.6</td>\n",
       "      <td>5</td>\n",
       "    </tr>\n",
       "    <tr>\n",
       "      <th>73855</th>\n",
       "      <td>tt9916160</td>\n",
       "      <td>Drømmeland</td>\n",
       "      <td>Documentary</td>\n",
       "      <td>6.5</td>\n",
       "      <td>11</td>\n",
       "    </tr>\n",
       "  </tbody>\n",
       "</table>\n",
       "<p>73856 rows × 5 columns</p>\n",
       "</div>"
      ],
      "text/plain": [
       "          tconst                    primary_title                genres  \\\n",
       "0      tt0063540                        Sunghursh    Action,Crime,Drama   \n",
       "1      tt0066787  One Day Before the Rainy Season       Biography,Drama   \n",
       "2      tt0069049       The Other Side of the Wind                 Drama   \n",
       "3      tt0069204                  Sabse Bada Sukh          Comedy,Drama   \n",
       "4      tt0100275         The Wandering Soap Opera  Comedy,Drama,Fantasy   \n",
       "...          ...                              ...                   ...   \n",
       "73851  tt9913084                 Diabolik sono io           Documentary   \n",
       "73852  tt9914286                Sokagin Çocuklari          Drama,Family   \n",
       "73853  tt9914642                        Albatross           Documentary   \n",
       "73854  tt9914942       La vida sense la Sara Amat                  None   \n",
       "73855  tt9916160                       Drømmeland           Documentary   \n",
       "\n",
       "       average_rating  numvotes  \n",
       "0                 7.0        77  \n",
       "1                 7.2        43  \n",
       "2                 6.9      4517  \n",
       "3                 6.1        13  \n",
       "4                 6.5       119  \n",
       "...               ...       ...  \n",
       "73851             6.2         6  \n",
       "73852             8.7       136  \n",
       "73853             8.5         8  \n",
       "73854             6.6         5  \n",
       "73855             6.5        11  \n",
       "\n",
       "[73856 rows x 5 columns]"
      ]
     },
     "execution_count": 40,
     "metadata": {},
     "output_type": "execute_result"
    }
   ],
   "source": [
    "# merge between tables title_basics, title_ratings\n",
    "tb1_tr_merge = pd.merge(tb1, tr, on ='tconst')\n",
    "tb1_tr_merge"
   ]
  },
  {
   "cell_type": "code",
   "execution_count": null,
   "metadata": {},
   "outputs": [],
   "source": []
  },
  {
   "cell_type": "code",
   "execution_count": 44,
   "metadata": {},
   "outputs": [
    {
     "data": {
      "text/html": [
       "<div>\n",
       "<style scoped>\n",
       "    .dataframe tbody tr th:only-of-type {\n",
       "        vertical-align: middle;\n",
       "    }\n",
       "\n",
       "    .dataframe tbody tr th {\n",
       "        vertical-align: top;\n",
       "    }\n",
       "\n",
       "    .dataframe thead th {\n",
       "        text-align: right;\n",
       "    }\n",
       "</style>\n",
       "<table border=\"1\" class=\"dataframe\">\n",
       "  <thead>\n",
       "    <tr style=\"text-align: right;\">\n",
       "      <th></th>\n",
       "      <th>genre_ids</th>\n",
       "      <th>id</th>\n",
       "      <th>original_title</th>\n",
       "      <th>popularity</th>\n",
       "      <th>title</th>\n",
       "      <th>vote_average</th>\n",
       "      <th>vote_count</th>\n",
       "      <th>studio</th>\n",
       "      <th>domestic_gross</th>\n",
       "    </tr>\n",
       "  </thead>\n",
       "  <tbody>\n",
       "    <tr>\n",
       "      <th>0</th>\n",
       "      <td>[14, 12, 16, 10751]</td>\n",
       "      <td>10191</td>\n",
       "      <td>How to Train Your Dragon</td>\n",
       "      <td>28.734</td>\n",
       "      <td>How to Train Your Dragon</td>\n",
       "      <td>7.7</td>\n",
       "      <td>7610</td>\n",
       "      <td>P/DW</td>\n",
       "      <td>217600000.0</td>\n",
       "    </tr>\n",
       "    <tr>\n",
       "      <th>1</th>\n",
       "      <td>[12, 28, 878]</td>\n",
       "      <td>10138</td>\n",
       "      <td>Iron Man 2</td>\n",
       "      <td>28.515</td>\n",
       "      <td>Iron Man 2</td>\n",
       "      <td>6.8</td>\n",
       "      <td>12368</td>\n",
       "      <td>Par.</td>\n",
       "      <td>312400000.0</td>\n",
       "    </tr>\n",
       "    <tr>\n",
       "      <th>2</th>\n",
       "      <td>[28, 878, 12]</td>\n",
       "      <td>27205</td>\n",
       "      <td>Inception</td>\n",
       "      <td>27.920</td>\n",
       "      <td>Inception</td>\n",
       "      <td>8.3</td>\n",
       "      <td>22186</td>\n",
       "      <td>WB</td>\n",
       "      <td>292600000.0</td>\n",
       "    </tr>\n",
       "    <tr>\n",
       "      <th>3</th>\n",
       "      <td>[16, 10751, 35]</td>\n",
       "      <td>10193</td>\n",
       "      <td>Toy Story 3</td>\n",
       "      <td>24.445</td>\n",
       "      <td>Toy Story 3</td>\n",
       "      <td>7.7</td>\n",
       "      <td>8340</td>\n",
       "      <td>BV</td>\n",
       "      <td>415000000.0</td>\n",
       "    </tr>\n",
       "    <tr>\n",
       "      <th>4</th>\n",
       "      <td>[16, 10751, 35]</td>\n",
       "      <td>20352</td>\n",
       "      <td>Despicable Me</td>\n",
       "      <td>23.673</td>\n",
       "      <td>Despicable Me</td>\n",
       "      <td>7.2</td>\n",
       "      <td>10057</td>\n",
       "      <td>Uni.</td>\n",
       "      <td>251500000.0</td>\n",
       "    </tr>\n",
       "    <tr>\n",
       "      <th>...</th>\n",
       "      <td>...</td>\n",
       "      <td>...</td>\n",
       "      <td>...</td>\n",
       "      <td>...</td>\n",
       "      <td>...</td>\n",
       "      <td>...</td>\n",
       "      <td>...</td>\n",
       "      <td>...</td>\n",
       "      <td>...</td>\n",
       "    </tr>\n",
       "    <tr>\n",
       "      <th>1696</th>\n",
       "      <td>[12, 80, 10751, 35]</td>\n",
       "      <td>425148</td>\n",
       "      <td>Show Dogs</td>\n",
       "      <td>7.904</td>\n",
       "      <td>Show Dogs</td>\n",
       "      <td>5.9</td>\n",
       "      <td>92</td>\n",
       "      <td>Global Road</td>\n",
       "      <td>17900000.0</td>\n",
       "    </tr>\n",
       "    <tr>\n",
       "      <th>1697</th>\n",
       "      <td>[35, 10749, 18, 9648]</td>\n",
       "      <td>522921</td>\n",
       "      <td>超时空同居</td>\n",
       "      <td>6.840</td>\n",
       "      <td>How Long Will I Love U</td>\n",
       "      <td>7.4</td>\n",
       "      <td>11</td>\n",
       "      <td>WGUSA</td>\n",
       "      <td>747000.0</td>\n",
       "    </tr>\n",
       "    <tr>\n",
       "      <th>1698</th>\n",
       "      <td>[12, 35, 14]</td>\n",
       "      <td>497984</td>\n",
       "      <td>捉妖记2</td>\n",
       "      <td>6.637</td>\n",
       "      <td>Monster Hunt 2</td>\n",
       "      <td>6.3</td>\n",
       "      <td>14</td>\n",
       "      <td>LGF</td>\n",
       "      <td>706000.0</td>\n",
       "    </tr>\n",
       "    <tr>\n",
       "      <th>1699</th>\n",
       "      <td>[18, 10749]</td>\n",
       "      <td>446132</td>\n",
       "      <td>Gauguin: Voyage de Tahiti</td>\n",
       "      <td>5.553</td>\n",
       "      <td>Gauguin: Voyage to Tahiti</td>\n",
       "      <td>5.6</td>\n",
       "      <td>48</td>\n",
       "      <td>Cohen</td>\n",
       "      <td>200000.0</td>\n",
       "    </tr>\n",
       "    <tr>\n",
       "      <th>1700</th>\n",
       "      <td>[28, 12, 16]</td>\n",
       "      <td>332718</td>\n",
       "      <td>Bilal: A New Breed of Hero</td>\n",
       "      <td>2.707</td>\n",
       "      <td>Bilal: A New Breed of Hero</td>\n",
       "      <td>6.8</td>\n",
       "      <td>54</td>\n",
       "      <td>VE</td>\n",
       "      <td>491000.0</td>\n",
       "    </tr>\n",
       "  </tbody>\n",
       "</table>\n",
       "<p>1701 rows × 9 columns</p>\n",
       "</div>"
      ],
      "text/plain": [
       "                  genre_ids      id              original_title  popularity  \\\n",
       "0       [14, 12, 16, 10751]   10191    How to Train Your Dragon      28.734   \n",
       "1             [12, 28, 878]   10138                  Iron Man 2      28.515   \n",
       "2             [28, 878, 12]   27205                   Inception      27.920   \n",
       "3           [16, 10751, 35]   10193                 Toy Story 3      24.445   \n",
       "4           [16, 10751, 35]   20352               Despicable Me      23.673   \n",
       "...                     ...     ...                         ...         ...   \n",
       "1696    [12, 80, 10751, 35]  425148                   Show Dogs       7.904   \n",
       "1697  [35, 10749, 18, 9648]  522921                       超时空同居       6.840   \n",
       "1698           [12, 35, 14]  497984                        捉妖记2       6.637   \n",
       "1699            [18, 10749]  446132   Gauguin: Voyage de Tahiti       5.553   \n",
       "1700           [28, 12, 16]  332718  Bilal: A New Breed of Hero       2.707   \n",
       "\n",
       "                           title  vote_average  vote_count       studio  \\\n",
       "0       How to Train Your Dragon           7.7        7610         P/DW   \n",
       "1                     Iron Man 2           6.8       12368         Par.   \n",
       "2                      Inception           8.3       22186           WB   \n",
       "3                    Toy Story 3           7.7        8340           BV   \n",
       "4                  Despicable Me           7.2       10057         Uni.   \n",
       "...                          ...           ...         ...          ...   \n",
       "1696                   Show Dogs           5.9          92  Global Road   \n",
       "1697      How Long Will I Love U           7.4          11        WGUSA   \n",
       "1698              Monster Hunt 2           6.3          14          LGF   \n",
       "1699   Gauguin: Voyage to Tahiti           5.6          48        Cohen   \n",
       "1700  Bilal: A New Breed of Hero           6.8          54           VE   \n",
       "\n",
       "      domestic_gross  \n",
       "0        217600000.0  \n",
       "1        312400000.0  \n",
       "2        292600000.0  \n",
       "3        415000000.0  \n",
       "4        251500000.0  \n",
       "...              ...  \n",
       "1696      17900000.0  \n",
       "1697        747000.0  \n",
       "1698        706000.0  \n",
       "1699        200000.0  \n",
       "1700        491000.0  \n",
       "\n",
       "[1701 rows x 9 columns]"
      ]
     },
     "execution_count": 44,
     "metadata": {},
     "output_type": "execute_result"
    }
   ],
   "source": [
    "# merge between tables tmdb_movies, bom_movie_gross\n",
    "tm1_bm2_merge = pd.merge(tm1, bm2, on = 'title')\n",
    "tm1_bm2_merge"
   ]
  },
  {
   "cell_type": "code",
   "execution_count": null,
   "metadata": {},
   "outputs": [],
   "source": []
  },
  {
   "cell_type": "code",
   "execution_count": 48,
   "metadata": {},
   "outputs": [
    {
     "data": {
      "text/html": [
       "<div>\n",
       "<style scoped>\n",
       "    .dataframe tbody tr th:only-of-type {\n",
       "        vertical-align: middle;\n",
       "    }\n",
       "\n",
       "    .dataframe tbody tr th {\n",
       "        vertical-align: top;\n",
       "    }\n",
       "\n",
       "    .dataframe thead th {\n",
       "        text-align: right;\n",
       "    }\n",
       "</style>\n",
       "<table border=\"1\" class=\"dataframe\">\n",
       "  <thead>\n",
       "    <tr style=\"text-align: right;\">\n",
       "      <th></th>\n",
       "      <th>genre_ids</th>\n",
       "      <th>id_x</th>\n",
       "      <th>original_title</th>\n",
       "      <th>popularity</th>\n",
       "      <th>title</th>\n",
       "      <th>vote_average</th>\n",
       "      <th>vote_count</th>\n",
       "      <th>studio</th>\n",
       "      <th>domestic_gross_x</th>\n",
       "      <th>id_y</th>\n",
       "      <th>production_budget</th>\n",
       "      <th>domestic_gross_y</th>\n",
       "      <th>worldwide_gross</th>\n",
       "      <th>profit</th>\n",
       "    </tr>\n",
       "  </thead>\n",
       "  <tbody>\n",
       "    <tr>\n",
       "      <th>0</th>\n",
       "      <td>[14, 12, 16, 10751]</td>\n",
       "      <td>10191</td>\n",
       "      <td>How to Train Your Dragon</td>\n",
       "      <td>28.734</td>\n",
       "      <td>How to Train Your Dragon</td>\n",
       "      <td>7.7</td>\n",
       "      <td>7610</td>\n",
       "      <td>P/DW</td>\n",
       "      <td>217600000.0</td>\n",
       "      <td>30</td>\n",
       "      <td>165000000</td>\n",
       "      <td>217581232</td>\n",
       "      <td>494870992</td>\n",
       "      <td>547452224</td>\n",
       "    </tr>\n",
       "    <tr>\n",
       "      <th>1</th>\n",
       "      <td>[12, 28, 878]</td>\n",
       "      <td>10138</td>\n",
       "      <td>Iron Man 2</td>\n",
       "      <td>28.515</td>\n",
       "      <td>Iron Man 2</td>\n",
       "      <td>6.8</td>\n",
       "      <td>12368</td>\n",
       "      <td>Par.</td>\n",
       "      <td>312400000.0</td>\n",
       "      <td>15</td>\n",
       "      <td>170000000</td>\n",
       "      <td>312433331</td>\n",
       "      <td>621156389</td>\n",
       "      <td>763589720</td>\n",
       "    </tr>\n",
       "    <tr>\n",
       "      <th>2</th>\n",
       "      <td>[28, 878, 12]</td>\n",
       "      <td>27205</td>\n",
       "      <td>Inception</td>\n",
       "      <td>27.920</td>\n",
       "      <td>Inception</td>\n",
       "      <td>8.3</td>\n",
       "      <td>22186</td>\n",
       "      <td>WB</td>\n",
       "      <td>292600000.0</td>\n",
       "      <td>38</td>\n",
       "      <td>160000000</td>\n",
       "      <td>292576195</td>\n",
       "      <td>835524642</td>\n",
       "      <td>968100837</td>\n",
       "    </tr>\n",
       "    <tr>\n",
       "      <th>3</th>\n",
       "      <td>[16, 10751, 35]</td>\n",
       "      <td>10193</td>\n",
       "      <td>Toy Story 3</td>\n",
       "      <td>24.445</td>\n",
       "      <td>Toy Story 3</td>\n",
       "      <td>7.7</td>\n",
       "      <td>8340</td>\n",
       "      <td>BV</td>\n",
       "      <td>415000000.0</td>\n",
       "      <td>47</td>\n",
       "      <td>200000000</td>\n",
       "      <td>415004880</td>\n",
       "      <td>1068879522</td>\n",
       "      <td>1283884402</td>\n",
       "    </tr>\n",
       "    <tr>\n",
       "      <th>4</th>\n",
       "      <td>[16, 10751, 35]</td>\n",
       "      <td>20352</td>\n",
       "      <td>Despicable Me</td>\n",
       "      <td>23.673</td>\n",
       "      <td>Despicable Me</td>\n",
       "      <td>7.2</td>\n",
       "      <td>10057</td>\n",
       "      <td>Uni.</td>\n",
       "      <td>251500000.0</td>\n",
       "      <td>50</td>\n",
       "      <td>69000000</td>\n",
       "      <td>251513985</td>\n",
       "      <td>543464573</td>\n",
       "      <td>725978558</td>\n",
       "    </tr>\n",
       "    <tr>\n",
       "      <th>...</th>\n",
       "      <td>...</td>\n",
       "      <td>...</td>\n",
       "      <td>...</td>\n",
       "      <td>...</td>\n",
       "      <td>...</td>\n",
       "      <td>...</td>\n",
       "      <td>...</td>\n",
       "      <td>...</td>\n",
       "      <td>...</td>\n",
       "      <td>...</td>\n",
       "      <td>...</td>\n",
       "      <td>...</td>\n",
       "      <td>...</td>\n",
       "      <td>...</td>\n",
       "    </tr>\n",
       "    <tr>\n",
       "      <th>1192</th>\n",
       "      <td>[36]</td>\n",
       "      <td>476968</td>\n",
       "      <td>Paul, Apostle of Christ</td>\n",
       "      <td>12.005</td>\n",
       "      <td>Paul, Apostle of Christ</td>\n",
       "      <td>7.1</td>\n",
       "      <td>98</td>\n",
       "      <td>Affirm</td>\n",
       "      <td>17600000.0</td>\n",
       "      <td>95</td>\n",
       "      <td>5000000</td>\n",
       "      <td>17547999</td>\n",
       "      <td>25529498</td>\n",
       "      <td>38077497</td>\n",
       "    </tr>\n",
       "    <tr>\n",
       "      <th>1193</th>\n",
       "      <td>[18, 36, 53]</td>\n",
       "      <td>453201</td>\n",
       "      <td>The 15:17 to Paris</td>\n",
       "      <td>11.576</td>\n",
       "      <td>The 15:17 to Paris</td>\n",
       "      <td>5.3</td>\n",
       "      <td>799</td>\n",
       "      <td>WB</td>\n",
       "      <td>36300000.0</td>\n",
       "      <td>23</td>\n",
       "      <td>30000000</td>\n",
       "      <td>36276286</td>\n",
       "      <td>56096200</td>\n",
       "      <td>62372486</td>\n",
       "    </tr>\n",
       "    <tr>\n",
       "      <th>1194</th>\n",
       "      <td>[35]</td>\n",
       "      <td>474335</td>\n",
       "      <td>Uncle Drew</td>\n",
       "      <td>10.836</td>\n",
       "      <td>Uncle Drew</td>\n",
       "      <td>6.5</td>\n",
       "      <td>220</td>\n",
       "      <td>LG/S</td>\n",
       "      <td>42500000.0</td>\n",
       "      <td>85</td>\n",
       "      <td>18000000</td>\n",
       "      <td>42469946</td>\n",
       "      <td>46527161</td>\n",
       "      <td>70997107</td>\n",
       "    </tr>\n",
       "    <tr>\n",
       "      <th>1195</th>\n",
       "      <td>[53, 28, 80]</td>\n",
       "      <td>442064</td>\n",
       "      <td>Proud Mary</td>\n",
       "      <td>9.371</td>\n",
       "      <td>Proud Mary</td>\n",
       "      <td>5.5</td>\n",
       "      <td>259</td>\n",
       "      <td>SGem</td>\n",
       "      <td>20900000.0</td>\n",
       "      <td>50</td>\n",
       "      <td>30000000</td>\n",
       "      <td>20868638</td>\n",
       "      <td>21709539</td>\n",
       "      <td>12578177</td>\n",
       "    </tr>\n",
       "    <tr>\n",
       "      <th>1196</th>\n",
       "      <td>[28, 12, 16]</td>\n",
       "      <td>332718</td>\n",
       "      <td>Bilal: A New Breed of Hero</td>\n",
       "      <td>2.707</td>\n",
       "      <td>Bilal: A New Breed of Hero</td>\n",
       "      <td>6.8</td>\n",
       "      <td>54</td>\n",
       "      <td>VE</td>\n",
       "      <td>491000.0</td>\n",
       "      <td>100</td>\n",
       "      <td>30000000</td>\n",
       "      <td>490973</td>\n",
       "      <td>648599</td>\n",
       "      <td>-28860428</td>\n",
       "    </tr>\n",
       "  </tbody>\n",
       "</table>\n",
       "<p>1197 rows × 14 columns</p>\n",
       "</div>"
      ],
      "text/plain": [
       "                genre_ids    id_x              original_title  popularity  \\\n",
       "0     [14, 12, 16, 10751]   10191    How to Train Your Dragon      28.734   \n",
       "1           [12, 28, 878]   10138                  Iron Man 2      28.515   \n",
       "2           [28, 878, 12]   27205                   Inception      27.920   \n",
       "3         [16, 10751, 35]   10193                 Toy Story 3      24.445   \n",
       "4         [16, 10751, 35]   20352               Despicable Me      23.673   \n",
       "...                   ...     ...                         ...         ...   \n",
       "1192                 [36]  476968     Paul, Apostle of Christ      12.005   \n",
       "1193         [18, 36, 53]  453201          The 15:17 to Paris      11.576   \n",
       "1194                 [35]  474335                  Uncle Drew      10.836   \n",
       "1195         [53, 28, 80]  442064                  Proud Mary       9.371   \n",
       "1196         [28, 12, 16]  332718  Bilal: A New Breed of Hero       2.707   \n",
       "\n",
       "                           title  vote_average  vote_count  studio  \\\n",
       "0       How to Train Your Dragon           7.7        7610    P/DW   \n",
       "1                     Iron Man 2           6.8       12368    Par.   \n",
       "2                      Inception           8.3       22186      WB   \n",
       "3                    Toy Story 3           7.7        8340      BV   \n",
       "4                  Despicable Me           7.2       10057    Uni.   \n",
       "...                          ...           ...         ...     ...   \n",
       "1192     Paul, Apostle of Christ           7.1          98  Affirm   \n",
       "1193          The 15:17 to Paris           5.3         799      WB   \n",
       "1194                  Uncle Drew           6.5         220    LG/S   \n",
       "1195                  Proud Mary           5.5         259    SGem   \n",
       "1196  Bilal: A New Breed of Hero           6.8          54      VE   \n",
       "\n",
       "      domestic_gross_x  id_y  production_budget  domestic_gross_y  \\\n",
       "0          217600000.0    30          165000000         217581232   \n",
       "1          312400000.0    15          170000000         312433331   \n",
       "2          292600000.0    38          160000000         292576195   \n",
       "3          415000000.0    47          200000000         415004880   \n",
       "4          251500000.0    50           69000000         251513985   \n",
       "...                ...   ...                ...               ...   \n",
       "1192        17600000.0    95            5000000          17547999   \n",
       "1193        36300000.0    23           30000000          36276286   \n",
       "1194        42500000.0    85           18000000          42469946   \n",
       "1195        20900000.0    50           30000000          20868638   \n",
       "1196          491000.0   100           30000000            490973   \n",
       "\n",
       "      worldwide_gross      profit  \n",
       "0           494870992   547452224  \n",
       "1           621156389   763589720  \n",
       "2           835524642   968100837  \n",
       "3          1068879522  1283884402  \n",
       "4           543464573   725978558  \n",
       "...               ...         ...  \n",
       "1192         25529498    38077497  \n",
       "1193         56096200    62372486  \n",
       "1194         46527161    70997107  \n",
       "1195         21709539    12578177  \n",
       "1196           648599   -28860428  \n",
       "\n",
       "[1197 rows x 14 columns]"
      ]
     },
     "execution_count": 48,
     "metadata": {},
     "output_type": "execute_result"
    }
   ],
   "source": [
    "merged_df = pd.merge(tm1_bm2_merge, tn2, on = 'title')\n",
    "merged_df"
   ]
  },
  {
   "cell_type": "code",
   "execution_count": 50,
   "metadata": {},
   "outputs": [
    {
     "data": {
      "text/plain": [
       "Index(['genre_ids', 'id_x', 'original_title', 'popularity', 'title',\n",
       "       'vote_average', 'vote_count', 'studio', 'domestic_gross_x', 'id_y',\n",
       "       'production_budget', 'domestic_gross_y', 'worldwide_gross', 'profit'],\n",
       "      dtype='object')"
      ]
     },
     "execution_count": 50,
     "metadata": {},
     "output_type": "execute_result"
    }
   ],
   "source": [
    "merged_df.columns"
   ]
  },
  {
   "cell_type": "code",
   "execution_count": null,
   "metadata": {},
   "outputs": [],
   "source": []
  },
  {
   "cell_type": "code",
   "execution_count": null,
   "metadata": {},
   "outputs": [],
   "source": []
  },
  {
   "cell_type": "markdown",
   "metadata": {},
   "source": [
    "## REWORK ABOVE!!!  REWORK ABOVE!!!  REWORK ABOVE!!!  REWORK ABOVE!!! ##"
   ]
  },
  {
   "cell_type": "code",
   "execution_count": null,
   "metadata": {},
   "outputs": [],
   "source": [
    "# WORKING CELL\n",
    "# (3387, 5)\n",
    "# title              object\n",
    "# studio             object\n",
    "# domestic_gross    float64\n",
    "# foreign_gross      object\n",
    "# year                int64\n",
    "# title                0\n",
    "# studio               5\n",
    "# domestic_gross      28\n",
    "# foreign_gross     1350\n",
    "# year                 0\n",
    "\n",
    "bom_movie_gross_df = hf.load_table(conn, \"bom_movie_gross\")\n",
    "bom_movie_gross_df.foreign_gross.describe()"
   ]
  },
  {
   "cell_type": "code",
   "execution_count": null,
   "metadata": {},
   "outputs": [],
   "source": []
  },
  {
   "cell_type": "code",
   "execution_count": null,
   "metadata": {},
   "outputs": [],
   "source": [
    "# foriegn values on this table exceed 30 percent\n",
    "# will have to find other data to add that information for each studio\n",
    "# that's global.\n",
    "# values too large for plotting\n",
    "# both of the values I need are on the same table\n",
    "c.execute(\"\"\"SELECT title, \n",
    "        studio, \n",
    "        SUM(domestic_gross)\n",
    "        FROM bom_movie_gross\n",
    "        GROUP BY studio\n",
    "        ORDER BY SUM(domestic_gross) DESC\n",
    "        \"\"\")\n",
    "bom_movie_gross_df = pd.DataFrame(c.fetchall())\n",
    "bom_movie_gross_df.columns = [x[0] for x in c.description]\n",
    "bom_movie_gross_df.head()"
   ]
  },
  {
   "cell_type": "code",
   "execution_count": null,
   "metadata": {},
   "outputs": [],
   "source": [
    "bom_movie_gross_df.rename(columns = {'SUM(domestic_gross)':'domestic gross'}, inplace= True)"
   ]
  },
  {
   "cell_type": "code",
   "execution_count": null,
   "metadata": {},
   "outputs": [],
   "source": [
    "top_5 = bom_movie_gross_df.head()\n",
    "top_5"
   ]
  },
  {
   "cell_type": "code",
   "execution_count": null,
   "metadata": {},
   "outputs": [],
   "source": [
    "top_5.plot.bar(x='studio', y='domestic gross')\n",
    "plt.title('Top Producing Studios')\n",
    "plt.xlabel('Studio')\n",
    "plt.ylabel('Billions Yo!')\n",
    "plt.grid(True)\n",
    "ax = fig.add_subplot(111)\n",
    "ax.plot(x, y, color='lightblue', linewidth= 3)"
   ]
  },
  {
   "cell_type": "code",
   "execution_count": null,
   "metadata": {},
   "outputs": [],
   "source": [
    "sns.barplot(x='studio', y='domestic gross', )"
   ]
  },
  {
   "cell_type": "code",
   "execution_count": null,
   "metadata": {},
   "outputs": [],
   "source": []
  },
  {
   "cell_type": "code",
   "execution_count": null,
   "metadata": {},
   "outputs": [],
   "source": []
  },
  {
   "cell_type": "code",
   "execution_count": null,
   "metadata": {},
   "outputs": [],
   "source": []
  },
  {
   "cell_type": "code",
   "execution_count": null,
   "metadata": {},
   "outputs": [],
   "source": [
    "# need to get a subset through a filter\n",
    "# to depict a more relatable graph\n",
    "topfive = bom_movie_gross_df.head().describe()\n",
    "topfive.plot(kind='bar')\n",
    "# Turn on the grid\n",
    "plt.minorticks_on()\n",
    "plt.grid(which='major', linestyle='-', linewidth='0.5', color='green')\n",
    "plt.grid(which='minor', linestyle=':', linewidth='0.5', color='black')\n",
    "\n",
    "plt.show()"
   ]
  },
  {
   "cell_type": "code",
   "execution_count": null,
   "metadata": {},
   "outputs": [],
   "source": [
    "# domestic_gross boxplot\n",
    "# outliars hard to indentify with matplotlib and the large values in \n",
    "# this column will have to filter and use a subset at the prospect of \n",
    "# sacrificing some data loss\n",
    "bom_movie_gross_df.head().plot(kind='box')"
   ]
  },
  {
   "cell_type": "code",
   "execution_count": null,
   "metadata": {},
   "outputs": [],
   "source": [
    "# line plotting is to show some value over time/duration not a \n",
    "# valid option for what I'm attempting to achieve since the data\n",
    "# isn't time sensitive.\n",
    "# these values are too large need to find a way to get a subset\n",
    "# where the marjority of the values reside without sacrificing data\n",
    "\n",
    "bom_movie_gross_df.head().plot(kind='barh', stacked=True)\n",
    "bom_movie_gross_df.head().plot(kind='bar', stacked=True)\n",
    "plt.show()"
   ]
  },
  {
   "cell_type": "markdown",
   "metadata": {},
   "source": [
    "# Adverage rating, numvotes, and genres"
   ]
  },
  {
   "cell_type": "code",
   "execution_count": null,
   "metadata": {},
   "outputs": [],
   "source": [
    "# WORKING CELL\n",
    "# Original table data\n",
    "# (73856, 3)\n",
    "# tconst            object\n",
    "# averagerating    float64\n",
    "# numvotes           int64\n",
    "# tconst           0\n",
    "# averagerating    0\n",
    "# numvotes         0\n",
    "\n",
    "title_ratings_df = hf.load_table(conn, \"title_ratings\")"
   ]
  },
  {
   "cell_type": "code",
   "execution_count": null,
   "metadata": {},
   "outputs": [],
   "source": [
    "# rename col averagerating \n",
    "title_ratings_df.rename(columns={'averagerating': 'average_rating'}, inplace= True)\n",
    "title_ratings_df.head()"
   ]
  },
  {
   "cell_type": "code",
   "execution_count": null,
   "metadata": {},
   "outputs": [],
   "source": [
    "title_ratings_df.groupby('average_rating').numvotes.mean().sort_values().head()"
   ]
  },
  {
   "cell_type": "code",
   "execution_count": null,
   "metadata": {},
   "outputs": [],
   "source": []
  },
  {
   "cell_type": "code",
   "execution_count": null,
   "metadata": {},
   "outputs": [],
   "source": [
    "# the majority of numvotes are below 1000\n",
    "# filtering this distribution will lose some data have to check the \n",
    "# shape to make that determination but the graph looks more relatable\n",
    "\n",
    "# title_ratings_df[title_ratings_df.numvotes < 5000].numvotes.plot(kind='hist')\n",
    "# title_ratings_df.query('numvotes < 5000').numvotes.plot(kind= 'hist')\n",
    "# loc can be passed a multiple cols a range of cols so is probably a better choice.\n",
    "title_ratings_df.loc[title_ratings_df.numvotes < 1500, 'numvotes'].plot(kind='hist')"
   ]
  },
  {
   "cell_type": "code",
   "execution_count": null,
   "metadata": {},
   "outputs": [],
   "source": [
    "# WORKING CELL\n",
    "# Original table data\n",
    "# (146144, 6)\n",
    "# tconst              object\n",
    "# primary_title       object\n",
    "# original_title      object\n",
    "# start_year           int64\n",
    "# runtime_minutes    float64\n",
    "# genres              object\n",
    "# tconst                 0\n",
    "# primary_title          0\n",
    "# original_title        21\n",
    "# start_year             0\n",
    "# runtime_minutes    31739\n",
    "# genres              5408\n",
    "\n",
    "title_basics_df = hf.load_table(conn, \"title_basics\")\n",
    "title_basics_df.genres.str.contains('Horror').values_counts()"
   ]
  },
  {
   "cell_type": "code",
   "execution_count": null,
   "metadata": {},
   "outputs": [],
   "source": [
    "# bar is best for category data\n",
    "# reversed axis?! something to do with how pandas reads row order\n",
    "# I don't know how to sort data before plotting\n",
    "title_basics_df.start_year.value_counts().sort_index().plot()"
   ]
  },
  {
   "cell_type": "markdown",
   "metadata": {},
   "source": [
    "# getting the data"
   ]
  },
  {
   "cell_type": "code",
   "execution_count": null,
   "metadata": {},
   "outputs": [],
   "source": [
    "# obtaining the data i'm looking for\n",
    "c.execute(\"\"\"SELECT tconst,\n",
    "        averagerating,\n",
    "        numvotes\n",
    "        FROM title_ratings\n",
    "        \"\"\")\n",
    "title_ratings_df = pd.DataFrame(c.fetchall())\n",
    "title_ratings_df.columns = [x[0] for x in c.description]\n",
    "title_ratings_df.head()"
   ]
  },
  {
   "cell_type": "code",
   "execution_count": null,
   "metadata": {},
   "outputs": [],
   "source": [
    "# rename col averagerating \n",
    "title_ratings_df.rename(columns={'averagerating': 'average_rating'}, inplace= True)\n",
    "title_ratings_df.head()"
   ]
  },
  {
   "cell_type": "code",
   "execution_count": null,
   "metadata": {},
   "outputs": [],
   "source": [
    "# obtaining the data I'm looking for\n",
    "c.execute(\"\"\"SELECT tconst,\n",
    "        primary_title,\n",
    "        genres\n",
    "        FROM title_basics\n",
    "        \"\"\")\n",
    "title_basics_df = pd.DataFrame(c.fetchall())\n",
    "title_basics_df.columns = [x[0] for x in c.description]\n",
    "title_basics_df.head()"
   ]
  },
  {
   "cell_type": "code",
   "execution_count": null,
   "metadata": {},
   "outputs": [],
   "source": [
    "# RangeIndex: 146144 entries, 0 to 146143\n",
    "# Data columns (total 3 columns):\n",
    "# tconst           146144 non-null object\n",
    "# primary_title    146144 non-null object\n",
    "# genres           140736 non-null object\n",
    "# dtypes: object(3)\n",
    "# tconst                 0\n",
    "# primary_title          0\n",
    "# runtime_minutes    31739\n",
    "# genres              5408\n",
    "title_basics_df.info()"
   ]
  },
  {
   "cell_type": "code",
   "execution_count": null,
   "metadata": {},
   "outputs": [],
   "source": [
    "merged_titles = pd.merge(title_basics_df, title_ratings_df, on ='tconst')\n",
    "merged_titles.head()"
   ]
  },
  {
   "cell_type": "code",
   "execution_count": null,
   "metadata": {},
   "outputs": [],
   "source": [
    "merged_titles.groupby('genres').numvotes.mean().head()"
   ]
  },
  {
   "cell_type": "code",
   "execution_count": null,
   "metadata": {},
   "outputs": [],
   "source": [
    "# this is very skewed towards vumvotes values\n",
    "mt = merged_titles.head().mean()\n",
    "mt.plot(kind='bar')\n",
    "# Turn on the grid\n",
    "plt.minorticks_on()\n",
    "plt.grid(which='major', linestyle='-', linewidth='0.5', color='green')\n",
    "plt.grid(which='minor', linestyle=':', linewidth='0.5', color='black')\n",
    "\n",
    "plt.show()"
   ]
  },
  {
   "cell_type": "markdown",
   "metadata": {},
   "source": [
    "# Question # 3 popularity & domestic gross"
   ]
  },
  {
   "cell_type": "code",
   "execution_count": null,
   "metadata": {},
   "outputs": [],
   "source": [
    "# show the value and/ or correalation of movie popularity \n",
    "# and profitability, attempt to tie this back to the studio\n",
    "# that owns this production\n",
    "# Original table data\n",
    "# (5782, 6)\n",
    "# id                    int64\n",
    "# release_date         object\n",
    "# movie                object\n",
    "# production_budget    object\n",
    "# domestic_gross       object\n",
    "# worldwide_gross      object\n",
    "# id                   0\n",
    "# release_date         0\n",
    "# movie                0\n",
    "# production_budget    0\n",
    "# domestic_gross       0\n",
    "# worldwide_gross      0\n",
    "\n",
    "tn_movie_budgets_df = hf.load_table(conn, \"tn_movie_budgets\")\n",
    "tn_movie_budgets_df.isna().sum()"
   ]
  },
  {
   "cell_type": "code",
   "execution_count": null,
   "metadata": {},
   "outputs": [],
   "source": [
    "# Original table data\n",
    "# (26517, 10)\n",
    "# index                  int64\n",
    "# genre_ids             object\n",
    "# id                     int64\n",
    "# original_language     object\n",
    "# original_title        object\n",
    "# popularity           float64\n",
    "# release_date          object\n",
    "# title                 object\n",
    "# vote_average         float64\n",
    "# vote_count             int64\n",
    "# index                0\n",
    "# genre_ids            0\n",
    "# id                   0\n",
    "# original_language    0\n",
    "# original_title       0\n",
    "# popularity           0\n",
    "# release_date         0\n",
    "# title                0\n",
    "# vote_average         0\n",
    "# vote_count           0\n",
    "\n",
    "tmdb_movies_df = hf.load_table(conn, \"tmdb_movies\")\n",
    "tmdb_movies_df.isna().sum()"
   ]
  },
  {
   "cell_type": "code",
   "execution_count": null,
   "metadata": {},
   "outputs": [],
   "source": [
    "# convert to int64 helper function\n",
    "tn_movie_budgets_df = hf.load_table(conn, \"tn_movie_budgets\")"
   ]
  },
  {
   "cell_type": "code",
   "execution_count": null,
   "metadata": {},
   "outputs": [],
   "source": [
    "# convert dollars to integers\n",
    "money_cols = ['production_budget', 'domestic_gross', 'worldwide_gross']\n",
    "\n",
    "for col in money_cols:\n",
    "    tn_movie_budgets_df = hf.convert_dollars_to_int(tn_movie_budgets_df, col)"
   ]
  },
  {
   "cell_type": "code",
   "execution_count": null,
   "metadata": {},
   "outputs": [],
   "source": [
    "# c.execute(\"\"\"SELECT id,\n",
    "#         movie,\n",
    "#         production_budget,\n",
    "#         domestic_gross,\n",
    "#         worldwide_gross\n",
    "#         FROM tn_movie_budgets\n",
    "#         \"\"\")\n",
    "# tn_movie_budgets_df = pd.DataFrame(c.fetchall())\n",
    "# tn_movie_budgets_df.columns = [x[0] for x in c.description]\n",
    "tn_movie_budgets_df.head()"
   ]
  },
  {
   "cell_type": "code",
   "execution_count": null,
   "metadata": {},
   "outputs": [],
   "source": []
  },
  {
   "cell_type": "code",
   "execution_count": null,
   "metadata": {},
   "outputs": [],
   "source": [
    "c.execute(\"\"\"SELECT release_date,\n",
    "        popularity,\n",
    "        vote_average,\n",
    "        vote_count\n",
    "        FROM tmdb_movies\n",
    "        \"\"\")\n",
    "tmdb_movies_df = pd.DataFrame(c.fetchall())\n",
    "tmdb_movies_df.columns = [x[0] for x in c.description]\n",
    "tmdb_movies_df.head()"
   ]
  },
  {
   "cell_type": "code",
   "execution_count": null,
   "metadata": {},
   "outputs": [],
   "source": [
    "tmdb_movies_df.groupby('popularity').vote_count.mean().sort_values().head()"
   ]
  },
  {
   "cell_type": "markdown",
   "metadata": {},
   "source": [
    "# merging tables"
   ]
  },
  {
   "cell_type": "code",
   "execution_count": null,
   "metadata": {},
   "outputs": [],
   "source": [
    "# to_concast abandoned, recommended join, found merge works even better \n",
    "# thus far, only took a day!\n",
    "merged_tn_tmdb = pd.merge(tn_movie_budgets_df, tmdb_movies_df, on ='release_date')\n",
    "merged_tn_tmdb.head()"
   ]
  },
  {
   "cell_type": "code",
   "execution_count": null,
   "metadata": {},
   "outputs": [],
   "source": []
  },
  {
   "cell_type": "code",
   "execution_count": null,
   "metadata": {},
   "outputs": [],
   "source": []
  },
  {
   "cell_type": "code",
   "execution_count": null,
   "metadata": {},
   "outputs": [],
   "source": []
  },
  {
   "cell_type": "code",
   "execution_count": null,
   "metadata": {},
   "outputs": [],
   "source": []
  }
 ],
 "metadata": {
  "kernelspec": {
   "display_name": "Python 3",
   "language": "python",
   "name": "python3"
  },
  "language_info": {
   "codemirror_mode": {
    "name": "ipython",
    "version": 3
   },
   "file_extension": ".py",
   "mimetype": "text/x-python",
   "name": "python",
   "nbconvert_exporter": "python",
   "pygments_lexer": "ipython3",
   "version": "3.6.10"
  }
 },
 "nbformat": 4,
 "nbformat_minor": 2
}
