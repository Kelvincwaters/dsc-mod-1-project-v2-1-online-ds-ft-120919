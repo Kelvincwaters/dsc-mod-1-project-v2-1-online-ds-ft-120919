{
 "cells": [
  {
   "cell_type": "markdown",
   "metadata": {},
   "source": [
    "## Final Project Submission\n",
    "\n",
    "Please fill out:\n",
    "* Student name: \n",
    "* Student pace: self paced / part time / full time\n",
    "* Scheduled project review date/time: \n",
    "* Instructor name: \n",
    "* Blog post URL:\n"
   ]
  },
  {
   "cell_type": "code",
   "execution_count": 1,
   "metadata": {},
   "outputs": [],
   "source": [
    "# Kelvin Waters\n",
    "# Online FT 12/09/19 cohort\n",
    "# Once submitted\n",
    "# Rafael Carrasco"
   ]
  },
  {
   "cell_type": "code",
   "execution_count": 2,
   "metadata": {},
   "outputs": [],
   "source": [
    "# import everything being used up top\n",
    "import os, sqlite3\n",
    "import numpy as np\n",
    "import pandas as pd\n",
    "from glob import glob"
   ]
  },
  {
   "cell_type": "markdown",
   "metadata": {},
   "source": [
    "# let the fun begin"
   ]
  },
  {
   "cell_type": "code",
   "execution_count": 3,
   "metadata": {},
   "outputs": [
    {
     "data": {
      "text/plain": [
       "[('bom_movie_gross',),\n",
       " ('name_basics',),\n",
       " ('title_akas',),\n",
       " ('title_basics',),\n",
       " ('title_crew',),\n",
       " ('title_principals',),\n",
       " ('title_ratings',),\n",
       " ('tmdb_movies',),\n",
       " ('tn_movie_budgets',)]"
      ]
     },
     "execution_count": 3,
     "metadata": {},
     "output_type": "execute_result"
    }
   ],
   "source": [
    "# sqlite connection established\n",
    "# cursor obj instantiated\n",
    "conn = sqlite3.connect('movies_db.sqlite')\n",
    "c = conn.cursor()\n",
    "\n",
    "c.execute(\"\"\"SELECT name \n",
    "        FROM sqlite_master \n",
    "        WHERE type = 'table'\n",
    "        \"\"\")\n",
    "c.fetchall()"
   ]
  },
  {
   "cell_type": "markdown",
   "metadata": {},
   "source": [
    "# Manipulate each table in place for efficiency"
   ]
  },
  {
   "cell_type": "markdown",
   "metadata": {},
   "source": [
    "# bom_movie_gross"
   ]
  },
  {
   "cell_type": "code",
   "execution_count": 45,
   "metadata": {},
   "outputs": [
    {
     "data": {
      "text/plain": [
       "Index(['title', 'studio', 'domestic_gross', 'foreign_gross', 'year'], dtype='object')"
      ]
     },
     "execution_count": 45,
     "metadata": {},
     "output_type": "execute_result"
    }
   ],
   "source": [
    "# RangeIndex: 3387 entries, 0 to 3386\n",
    "# Data columns (total 5 columns):\n",
    "# title             3387 non-null object\n",
    "# studio            3382 non-null object\n",
    "# domestic_gross    3359 non-null float64\n",
    "# foreign_gross     2037 non-null object\n",
    "# year              3387 non-null int64\n",
    "# dtypes: float64(1), int64(1), object(3)\n",
    "\n",
    "# df.shape (3387, 5)\n",
    "\n",
    "# isna().mean().round(4)* 100\n",
    "# title              0.00\n",
    "# studio             0.15\n",
    "# domestic_gross     0.83\n",
    "# foreign_gross     39.86\n",
    "# year               0.00\n",
    "\n",
    "# isnull().sum()\n",
    "# title                0\n",
    "# studio               5\n",
    "# domestic_gross      28\n",
    "# foreign_gross     1350\n",
    "# year                 0\n",
    "  \n",
    "# dropna().shape\n",
    "# (2007, 5)\n",
    "\n",
    "c.execute(\"\"\"SELECT *\n",
    "        FROM bom_movie_gross\n",
    "        \"\"\")\n",
    "df = pd.DataFrame(c.fetchall())\n",
    "df.columns = [x[0] for x in c.description]\n",
    "df.keys()"
   ]
  },
  {
   "cell_type": "code",
   "execution_count": 46,
   "metadata": {},
   "outputs": [
    {
     "data": {
      "text/plain": [
       "IFC      166\n",
       "Uni.     147\n",
       "WB       140\n",
       "Fox      136\n",
       "Magn.    136\n",
       "        ... \n",
       "IVP        1\n",
       "YFG        1\n",
       "ITL        1\n",
       "DF         1\n",
       "CF&SR      1\n",
       "Name: studio, Length: 258, dtype: int64"
      ]
     },
     "execution_count": 46,
     "metadata": {},
     "output_type": "execute_result"
    }
   ],
   "source": [
    "df['studio'].value_counts(dropna=False)"
   ]
  },
  {
   "cell_type": "markdown",
   "metadata": {},
   "source": [
    "# name_basics"
   ]
  },
  {
   "cell_type": "code",
   "execution_count": 52,
   "metadata": {},
   "outputs": [
    {
     "data": {
      "text/plain": [
       "Index(['nconst', 'primary_name', 'birth_year', 'death_year',\n",
       "       'primary_profession', 'known_for_titles'],\n",
       "      dtype='object')"
      ]
     },
     "execution_count": 52,
     "metadata": {},
     "output_type": "execute_result"
    }
   ],
   "source": [
    "# RangeIndex: 606648 entries, 0 to 606647\n",
    "# Data columns (total 6 columns):\n",
    "# nconst                606648 non-null object\n",
    "# primary_name          606648 non-null object\n",
    "# birth_year            82736 non-null float64\n",
    "# death_year            6783 non-null float64\n",
    "# primary_profession    555308 non-null object\n",
    "# known_for_titles      576444 non-null object\n",
    "# dtypes: float64(2), object(4)\n",
    "\n",
    "# df.shape (606648, 6)\n",
    "\n",
    "# isna().mean().round(4)*100\n",
    "# nconst                 0.00\n",
    "# primary_name           0.00\n",
    "# birth_year            86.36\n",
    "# death_year            98.88\n",
    "# primary_profession     8.46\n",
    "# known_for_titles       4.98\n",
    "\n",
    "# isnull().sum()\n",
    "# nconst                     0\n",
    "# primary_name               0\n",
    "# birth_year            523912\n",
    "# death_year            599865\n",
    "# primary_profession     51340\n",
    "# known_for_titles       30204\n",
    "\n",
    "# df.dropna().shape\n",
    "# (5541, 6) woooh! nope birth_year and death year gotta take one for the team! \n",
    "\n",
    "c.execute(\"\"\"SELECT *\n",
    "        FROM name_basics\n",
    "        \"\"\")\n",
    "df = pd.DataFrame(c.fetchall())\n",
    "df.columns = [x[0] for x in c.description]\n",
    "df.keys()"
   ]
  },
  {
   "cell_type": "code",
   "execution_count": 55,
   "metadata": {},
   "outputs": [
    {
     "data": {
      "text/plain": [
       "NaN       523912\n",
       "1978.0      2233\n",
       "1980.0      2223\n",
       "1979.0      2200\n",
       "1982.0      2130\n",
       "           ...  \n",
       "1766.0         1\n",
       "1764.0         1\n",
       "1761.0         1\n",
       "1759.0         1\n",
       "973.0          1\n",
       "Name: birth_year, Length: 268, dtype: int64"
      ]
     },
     "execution_count": 55,
     "metadata": {},
     "output_type": "execute_result"
    }
   ],
   "source": [
    "df['birth_year'].value_counts(dropna= False)"
   ]
  },
  {
   "cell_type": "markdown",
   "metadata": {},
   "source": [
    "# title_akas"
   ]
  },
  {
   "cell_type": "code",
   "execution_count": 48,
   "metadata": {},
   "outputs": [
    {
     "data": {
      "text/plain": [
       "Index(['title_id', 'ordering', 'title', 'region', 'language', 'types',\n",
       "       'attributes', 'is_original_title'],\n",
       "      dtype='object')"
      ]
     },
     "execution_count": 48,
     "metadata": {},
     "output_type": "execute_result"
    }
   ],
   "source": [
    "# RangeIndex: 331703 entries, 0 to 331702\n",
    "# Data columns (total 8 columns):\n",
    "# title_id             331703 non-null object\n",
    "# ordering             331703 non-null int64\n",
    "# title                331703 non-null object\n",
    "# region               278410 non-null object\n",
    "# language             41715 non-null object\n",
    "# types                168447 non-null object\n",
    "# attributes           14925 non-null object\n",
    "# is_original_title    331678 non-null float64\n",
    "# dtypes: float64(1), int64(1), object(6)\n",
    "\n",
    "# df.shape (331703, 8)\n",
    "\n",
    "# isna().mean().round(4)*100\n",
    "# title_id              0.00\n",
    "# ordering              0.00\n",
    "# title                 0.00\n",
    "# region               16.07\n",
    "# language             87.42\n",
    "# types                49.22\n",
    "# attributes           95.50\n",
    "# is_original_title     0.01\n",
    "\n",
    "# isnull().sum()\n",
    "# title_id                  0\n",
    "# ordering                  0\n",
    "# title                     0\n",
    "# region                53293\n",
    "# language             289988\n",
    "# types                163256\n",
    "# attributes           316778\n",
    "# is_original_title        25\n",
    "\n",
    "# dropna().shape\n",
    "# (0, 8) no table left! language types, and attributes columns gone!\n",
    "\n",
    "c.execute(\"\"\"SELECT *\n",
    "        FROM title_akas\n",
    "        \"\"\")\n",
    "df = pd.DataFrame(c.fetchall())\n",
    "df.columns = [x[0] for x in c.description]\n",
    "df.keys()"
   ]
  },
  {
   "cell_type": "code",
   "execution_count": 49,
   "metadata": {},
   "outputs": [
    {
     "data": {
      "text/plain": [
       "en    22895\n",
       "tr     3847\n",
       "bg     3609\n",
       "fr     3576\n",
       "he     2680\n",
       "      ...  \n",
       "ka        1\n",
       "gd        1\n",
       "mk        1\n",
       "xh        1\n",
       "iu        1\n",
       "Name: language, Length: 76, dtype: int64"
      ]
     },
     "execution_count": 49,
     "metadata": {},
     "output_type": "execute_result"
    }
   ],
   "source": [
    "df['language'].value_counts()"
   ]
  },
  {
   "cell_type": "markdown",
   "metadata": {},
   "source": [
    "# title_basics"
   ]
  },
  {
   "cell_type": "code",
   "execution_count": 57,
   "metadata": {},
   "outputs": [
    {
     "data": {
      "text/plain": [
       "Index(['tconst', 'primary_title', 'original_title', 'start_year',\n",
       "       'runtime_minutes', 'genres'],\n",
       "      dtype='object')"
      ]
     },
     "execution_count": 57,
     "metadata": {},
     "output_type": "execute_result"
    }
   ],
   "source": [
    "# RangeIndex: 146144 entries, 0 to 146143\n",
    "# Data columns (total 6 columns):\n",
    "# tconst             146144 non-null object\n",
    "# primary_title      146144 non-null object\n",
    "# original_title     146123 non-null object\n",
    "# start_year         146144 non-null int64\n",
    "# runtime_minutes    114405 non-null float64\n",
    "# genres             140736 non-null object\n",
    "# dtypes: float64(1), int64(1), object(4)\n",
    "\n",
    "# df.shape (146144, 6)\n",
    "\n",
    "# isna().mean().round(4)*100\n",
    "# tconst              0.00\n",
    "# primary_title       0.00\n",
    "# original_title      0.01\n",
    "# start_year          0.00\n",
    "# runtime_minutes    21.72\n",
    "# genres              3.70\n",
    "\n",
    "# isnull().sum()\n",
    "# tconst                 0\n",
    "# primary_title          0\n",
    "# original_title        21\n",
    "# start_year             0\n",
    "# runtime_minutes    31739\n",
    "# genres              5408\n",
    "\n",
    "# dropna().shape\n",
    "# (112232, 6)\n",
    "\n",
    "c.execute(\"\"\"SELECT *\n",
    "        FROM title_basics\n",
    "        \"\"\")\n",
    "df = pd.DataFrame(c.fetchall())\n",
    "df.columns = [x[0] for x in c.description]\n",
    "df.keys()"
   ]
  },
  {
   "cell_type": "code",
   "execution_count": 58,
   "metadata": {},
   "outputs": [
    {
     "data": {
      "text/plain": [
       "Documentary                 32185\n",
       "Drama                       21486\n",
       "Comedy                       9177\n",
       "NaN                          5408\n",
       "Horror                       4372\n",
       "                            ...  \n",
       "Comedy,Musical,Thriller         1\n",
       "Adventure,History,News          1\n",
       "Adventure,Music,Thriller        1\n",
       "Adventure,Music,Mystery         1\n",
       "Animation,Music,Sci-Fi          1\n",
       "Name: genres, Length: 1086, dtype: int64"
      ]
     },
     "execution_count": 58,
     "metadata": {},
     "output_type": "execute_result"
    }
   ],
   "source": [
    "df['genres'].value_counts(dropna= False)"
   ]
  },
  {
   "cell_type": "markdown",
   "metadata": {},
   "source": [
    "# title_crew"
   ]
  },
  {
   "cell_type": "code",
   "execution_count": 9,
   "metadata": {},
   "outputs": [
    {
     "data": {
      "text/plain": [
       "Index(['tconst', 'directors', 'writers'], dtype='object')"
      ]
     },
     "execution_count": 9,
     "metadata": {},
     "output_type": "execute_result"
    }
   ],
   "source": [
    "# RangeIndex: 146144 entries, 0 to 146143\n",
    "# Data columns (total 3 columns):\n",
    "# tconst       146144 non-null object\n",
    "# directors    140417 non-null object\n",
    "# writers      110261 non-null object\n",
    "# dtypes: object(3)\n",
    "\n",
    "# df.shape (146144, 3)\n",
    "\n",
    "# isna().mean().round(4)*100\n",
    "# tconst        0.00\n",
    "# directors     3.92\n",
    "# writers      24.55\n",
    "\n",
    "# isnull()\n",
    "# tconst           0\n",
    "# directors     5727\n",
    "# writers      35883\n",
    "\n",
    "# dropna().shape\n",
    "# (109008, 3)\n",
    "\n",
    "c.execute(\"\"\"SELECT *\n",
    "        FROM title_crew\n",
    "        \"\"\")\n",
    "df = pd.DataFrame(c.fetchall())\n",
    "df.columns = [x[0] for x in c.description]\n",
    "df.keys()"
   ]
  },
  {
   "cell_type": "code",
   "execution_count": null,
   "metadata": {},
   "outputs": [],
   "source": []
  },
  {
   "cell_type": "markdown",
   "metadata": {},
   "source": [
    "# title_principals"
   ]
  },
  {
   "cell_type": "code",
   "execution_count": 10,
   "metadata": {},
   "outputs": [
    {
     "data": {
      "text/plain": [
       "Index(['tconst', 'ordering', 'nconst', 'category', 'job', 'characters'], dtype='object')"
      ]
     },
     "execution_count": 10,
     "metadata": {},
     "output_type": "execute_result"
    }
   ],
   "source": [
    "# RangeIndex: 1028186 entries, 0 to 1028185\n",
    "# Data columns (total 6 columns):\n",
    "# tconst        1028186 non-null object\n",
    "# ordering      1028186 non-null int64\n",
    "# nconst        1028186 non-null object\n",
    "# category      1028186 non-null object\n",
    "# job           177684 non-null object\n",
    "# characters    393360 non-null object\n",
    "# dtypes: int64(1), object(5)\n",
    "\n",
    "# df.shape (1028186, 6)\n",
    "\n",
    "# isna().mean().round(4)*100\n",
    "# tconst         0.00\n",
    "# ordering       0.00\n",
    "# nconst         0.00\n",
    "# category       0.00\n",
    "# job           82.72\n",
    "# characters    61.74\n",
    "\n",
    "# isnull.sum()\n",
    "# tconst             0\n",
    "# ordering           0\n",
    "# nconst             0\n",
    "# category           0\n",
    "# job           850502\n",
    "# characters    634826\n",
    "\n",
    "# dropna().shape\n",
    "# (0, 6) no table left! job, characters columns gone!\n",
    "\n",
    "c.execute(\"\"\"SELECT *\n",
    "        FROM title_principals\n",
    "        \"\"\")\n",
    "df = pd.DataFrame(c.fetchall())\n",
    "df.columns = [x[0] for x in c.description]\n",
    "df.keys()"
   ]
  },
  {
   "cell_type": "code",
   "execution_count": null,
   "metadata": {},
   "outputs": [],
   "source": []
  },
  {
   "cell_type": "markdown",
   "metadata": {},
   "source": [
    "# bom_movies_gross"
   ]
  },
  {
   "cell_type": "code",
   "execution_count": 11,
   "metadata": {},
   "outputs": [
    {
     "data": {
      "text/plain": [
       "Index(['title', 'studio', 'domestic_gross', 'foreign_gross', 'year'], dtype='object')"
      ]
     },
     "execution_count": 11,
     "metadata": {},
     "output_type": "execute_result"
    }
   ],
   "source": [
    "# RangeIndex: 3387 entries, 0 to 3386\n",
    "# Data columns (total 5 columns):\n",
    "# title             3387 non-null object\n",
    "# studio            3382 non-null object\n",
    "# domestic_gross    3359 non-null float64\n",
    "# foreign_gross     2037 non-null object\n",
    "# year              3387 non-null int64\n",
    "# dtypes: float64(1), int64(1), object(3)\n",
    "\n",
    "# df.shape (3387, 5)\n",
    "\n",
    "# isna().mean().round(4)*100\n",
    "# title              0.00\n",
    "# studio             0.15\n",
    "# domestic_gross     0.83\n",
    "# foreign_gross     39.86\n",
    "# year               0.00\n",
    "\n",
    "# isnull().sum()\n",
    "# title                0\n",
    "# studio               5\n",
    "# domestic_gross      28\n",
    "# foreign_gross     1350\n",
    "# year                 0\n",
    "\n",
    "# dropna().shape\n",
    "# (2007, 5) foreign_gross on the chopping table! \n",
    "\n",
    "c.execute(\"\"\"SELECT *\n",
    "        FROM bom_movie_gross\n",
    "        \"\"\")\n",
    "df = pd.DataFrame(c.fetchall())\n",
    "df.columns = [x[0] for x in c.description]\n",
    "df.keys()"
   ]
  },
  {
   "cell_type": "code",
   "execution_count": null,
   "metadata": {},
   "outputs": [],
   "source": []
  },
  {
   "cell_type": "markdown",
   "metadata": {},
   "source": [
    "# title_ratings"
   ]
  },
  {
   "cell_type": "code",
   "execution_count": 12,
   "metadata": {},
   "outputs": [
    {
     "data": {
      "text/plain": [
       "Index(['tconst', 'averagerating', 'numvotes'], dtype='object')"
      ]
     },
     "execution_count": 12,
     "metadata": {},
     "output_type": "execute_result"
    }
   ],
   "source": [
    "# RangeIndex: 73856 entries, 0 to 73855\n",
    "# Data columns (total 3 columns):\n",
    "# tconst           73856 non-null object\n",
    "# averagerating    73856 non-null float64\n",
    "# numvotes         73856 non-null int64\n",
    "# dtypes: float64(1), int64(1), object(1)\n",
    "\n",
    "# df.shape (76856, 3)\n",
    "\n",
    "#isna().mean().round(4)*100\n",
    "# tconst           0.0\n",
    "# averagerating    0.0\n",
    "# numvotes         0.0\n",
    "\n",
    "# isnull().sum()\n",
    "# tconst           0\n",
    "# averagerating    0\n",
    "# numvotes         0\n",
    "\n",
    "# dropna().shape\n",
    "# (73856, 3)\n",
    "\n",
    "c.execute(\"\"\"SELECT *\n",
    "        FROM title_ratings\n",
    "        \"\"\")\n",
    "df = pd.DataFrame(c.fetchall())\n",
    "df.columns = [x[0] for x in c.description]\n",
    "df.keys()"
   ]
  },
  {
   "cell_type": "code",
   "execution_count": null,
   "metadata": {},
   "outputs": [],
   "source": []
  },
  {
   "cell_type": "markdown",
   "metadata": {},
   "source": [
    "# tmdb_movies"
   ]
  },
  {
   "cell_type": "code",
   "execution_count": 13,
   "metadata": {},
   "outputs": [
    {
     "data": {
      "text/plain": [
       "Index(['index', 'genre_ids', 'id', 'original_language', 'original_title',\n",
       "       'popularity', 'release_date', 'title', 'vote_average', 'vote_count'],\n",
       "      dtype='object')"
      ]
     },
     "execution_count": 13,
     "metadata": {},
     "output_type": "execute_result"
    }
   ],
   "source": [
    "# RangeIndex: 26517 entries, 0 to 26516\n",
    "# Data columns (total 10 columns):\n",
    "# index                26517 non-null int64\n",
    "# genre_ids            26517 non-null object\n",
    "# id                   26517 non-null int64\n",
    "# original_language    26517 non-null object\n",
    "# original_title       26517 non-null object\n",
    "# popularity           26517 non-null float64\n",
    "# release_date         26517 non-null object\n",
    "# title                26517 non-null object\n",
    "# vote_average         26517 non-null float64\n",
    "# vote_count           26517 non-null int64\n",
    "# dtypes: float64(2), int64(3), object(5)\n",
    "\n",
    "# df.shape (26517, 10)\n",
    "\n",
    "#isna().mean().round(4)*100\n",
    "# index                0.0\n",
    "# genre_ids            0.0\n",
    "# id                   0.0\n",
    "# original_language    0.0\n",
    "# original_title       0.0\n",
    "# popularity           0.0\n",
    "# release_date         0.0\n",
    "# title                0.0\n",
    "# vote_average         0.0\n",
    "# vote_count           0.0\n",
    "\n",
    "# isnull().sum()\n",
    "# index                0\n",
    "# genre_ids            0\n",
    "# id                   0\n",
    "# original_language    0\n",
    "# original_title       0\n",
    "# popularity           0\n",
    "# release_date         0\n",
    "# title                0\n",
    "# vote_average         0\n",
    "# vote_count           0\n",
    "\n",
    "# dropna().shape\n",
    "# (26517, 10)\n",
    "\n",
    "c.execute(\"\"\"SELECT *\n",
    "        FROM tmdb_movies\n",
    "        \"\"\")\n",
    "df = pd.DataFrame(c.fetchall())\n",
    "df.columns = [x[0] for x in c.description]\n",
    "df.columns"
   ]
  },
  {
   "cell_type": "code",
   "execution_count": null,
   "metadata": {},
   "outputs": [],
   "source": []
  },
  {
   "cell_type": "markdown",
   "metadata": {},
   "source": [
    "# tn_movie_budgets"
   ]
  },
  {
   "cell_type": "code",
   "execution_count": 14,
   "metadata": {},
   "outputs": [
    {
     "data": {
      "text/plain": [
       "Index(['id', 'release_date', 'movie', 'production_budget', 'domestic_gross',\n",
       "       'worldwide_gross'],\n",
       "      dtype='object')"
      ]
     },
     "execution_count": 14,
     "metadata": {},
     "output_type": "execute_result"
    }
   ],
   "source": [
    "# RangeIndex: 5782 entries, 0 to 5781\n",
    "# Data columns (total 6 columns):\n",
    "# id                   5782 non-null int64\n",
    "# release_date         5782 non-null object\n",
    "# movie                5782 non-null object\n",
    "# production_budget    5782 non-null object\n",
    "# domestic_gross       5782 non-null object\n",
    "# worldwide_gross      5782 non-null object\n",
    "# dtypes: int64(1), object(5)\n",
    "\n",
    "# df.shape (5782, 6)\n",
    "\n",
    "# isna().mean().round(4)*100\n",
    "# id                   0.0\n",
    "# release_date         0.0\n",
    "# movie                0.0\n",
    "# production_budget    0.0\n",
    "# domestic_gross       0.0\n",
    "# worldwide_gross      0.0\n",
    "\n",
    "# isnull().sum()\n",
    "# id                   0\n",
    "# release_date         0\n",
    "# movie                0\n",
    "# production_budget    0\n",
    "# domestic_gross       0\n",
    "# worldwide_gross      0\n",
    "\n",
    "# dropna().shape\n",
    "# (5782, 6)\n",
    "\n",
    "c.execute(\"\"\"SELECT *\n",
    "        FROM tn_movie_budgets\n",
    "        \"\"\")\n",
    "df = pd.DataFrame(c.fetchall())\n",
    "df.columns = [x[0] for x in c.description]\n",
    "df.columns"
   ]
  },
  {
   "cell_type": "code",
   "execution_count": null,
   "metadata": {},
   "outputs": [],
   "source": []
  },
  {
   "cell_type": "code",
   "execution_count": null,
   "metadata": {},
   "outputs": [],
   "source": []
  },
  {
   "cell_type": "code",
   "execution_count": null,
   "metadata": {},
   "outputs": [],
   "source": []
  },
  {
   "cell_type": "code",
   "execution_count": null,
   "metadata": {},
   "outputs": [],
   "source": []
  },
  {
   "cell_type": "code",
   "execution_count": null,
   "metadata": {},
   "outputs": [],
   "source": []
  },
  {
   "cell_type": "code",
   "execution_count": null,
   "metadata": {},
   "outputs": [],
   "source": []
  },
  {
   "cell_type": "code",
   "execution_count": null,
   "metadata": {},
   "outputs": [],
   "source": []
  }
 ],
 "metadata": {
  "kernelspec": {
   "display_name": "Python 3",
   "language": "python",
   "name": "python3"
  },
  "language_info": {
   "codemirror_mode": {
    "name": "ipython",
    "version": 3
   },
   "file_extension": ".py",
   "mimetype": "text/x-python",
   "name": "python",
   "nbconvert_exporter": "python",
   "pygments_lexer": "ipython3",
   "version": "3.6.9"
  }
 },
 "nbformat": 4,
 "nbformat_minor": 2
}
